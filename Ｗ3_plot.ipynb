{
  "nbformat": 4,
  "nbformat_minor": 0,
  "metadata": {
    "colab": {
      "name": "Ｗ3_plot.ipynb",
      "provenance": [],
      "mount_file_id": "1oko-rYh6e8X9TEjFrjwkeg8i4WOXHvxU",
      "authorship_tag": "ABX9TyOixzaX2g+Wm+bOWzwV64Vf",
      "include_colab_link": true
    },
    "kernelspec": {
      "name": "python3",
      "display_name": "Python 3"
    },
    "language_info": {
      "name": "python"
    }
  },
  "cells": [
    {
      "cell_type": "markdown",
      "metadata": {
        "id": "view-in-github",
        "colab_type": "text"
      },
      "source": [
        "<a href=\"https://colab.research.google.com/github/corrine1106/Project_EDA/blob/master/%EF%BC%B73_plot.ipynb\" target=\"_parent\"><img src=\"https://colab.research.google.com/assets/colab-badge.svg\" alt=\"Open In Colab\"/></a>"
      ]
    },
    {
      "cell_type": "code",
      "source": [
        "!wget -O TaipeiSansTCBeta-Regular.ttf https://drive.google.com/uc?id=1eGAsTN1HBpJAkeVM57_C7ccp7hbgSz3_&export=download\n",
        "\n",
        "import matplotlib as mpl\n",
        "import matplotlib.pyplot as plt \n",
        "from matplotlib.font_manager import fontManager\n",
        "\n",
        "# 改style要在改font之前\n",
        "# plt.style.use('seaborn')  \n",
        "\n",
        "fontManager.addfont('TaipeiSansTCBeta-Regular.ttf')\n",
        "mpl.rc('font', family='Taipei Sans TC Beta')"
      ],
      "metadata": {
        "colab": {
          "base_uri": "https://localhost:8080/"
        },
        "id": "HLFRk_giIG2L",
        "outputId": "5952b0fa-07c7-4d38-9240-6c25c192358b"
      },
      "execution_count": 21,
      "outputs": [
        {
          "output_type": "stream",
          "name": "stdout",
          "text": [
            "--2021-12-10 07:02:02--  https://drive.google.com/uc?id=1eGAsTN1HBpJAkeVM57_C7ccp7hbgSz3_\n",
            "Resolving drive.google.com (drive.google.com)... 142.250.103.102, 142.250.103.138, 142.250.103.139, ...\n",
            "Connecting to drive.google.com (drive.google.com)|142.250.103.102|:443... connected.\n",
            "HTTP request sent, awaiting response... 302 Moved Temporarily\n",
            "Location: https://doc-0k-9o-docs.googleusercontent.com/docs/securesc/ha0ro937gcuc7l7deffksulhg5h7mbp1/dtb5g5opb7hlk9s14a1erkn69lomtv26/1639119675000/02847987870453524430/*/1eGAsTN1HBpJAkeVM57_C7ccp7hbgSz3_ [following]\n",
            "Warning: wildcards not supported in HTTP.\n",
            "--2021-12-10 07:02:06--  https://doc-0k-9o-docs.googleusercontent.com/docs/securesc/ha0ro937gcuc7l7deffksulhg5h7mbp1/dtb5g5opb7hlk9s14a1erkn69lomtv26/1639119675000/02847987870453524430/*/1eGAsTN1HBpJAkeVM57_C7ccp7hbgSz3_\n",
            "Resolving doc-0k-9o-docs.googleusercontent.com (doc-0k-9o-docs.googleusercontent.com)... 173.194.197.132, 2607:f8b0:4001:c1b::84\n",
            "Connecting to doc-0k-9o-docs.googleusercontent.com (doc-0k-9o-docs.googleusercontent.com)|173.194.197.132|:443... connected.\n",
            "HTTP request sent, awaiting response... 200 OK\n",
            "Length: 20659344 (20M) [application/x-font-ttf]\n",
            "Saving to: ‘TaipeiSansTCBeta-Regular.ttf’\n",
            "\n",
            "TaipeiSansTCBeta-Re 100%[===================>]  19.70M  --.-KB/s    in 0.1s    \n",
            "\n",
            "2021-12-10 07:02:07 (136 MB/s) - ‘TaipeiSansTCBeta-Regular.ttf’ saved [20659344/20659344]\n",
            "\n"
          ]
        }
      ]
    },
    {
      "cell_type": "code",
      "execution_count": 1,
      "metadata": {
        "id": "jWXShw5KEip3"
      },
      "outputs": [],
      "source": [
        "import pandas as pd\n",
        "import numpy as np\n",
        "import seaborn as sns"
      ]
    },
    {
      "cell_type": "code",
      "source": [
        "df = pd.read_csv('/content/drive/MyDrive/T大使/data3_project (1).csv')"
      ],
      "metadata": {
        "id": "-OUJsxx4FBCa"
      },
      "execution_count": 2,
      "outputs": []
    },
    {
      "cell_type": "code",
      "source": [
        "def transfer_revernue(row):\n",
        "  if (row['Quantity'] < 0) & (row['UnitPrice']<0):\n",
        "    return row['Quantity']*-row['UnitPrice']\n",
        "  else:\n",
        "    return row['Quantity']*row['UnitPrice']\n",
        "\n",
        "df['Revenue'] = df.apply(transfer_revernue,axis=1)\n",
        "df.head()"
      ],
      "metadata": {
        "colab": {
          "base_uri": "https://localhost:8080/",
          "height": 204
        },
        "id": "UnEAZg6xFO5O",
        "outputId": "052edb81-e4bd-47b9-d662-5aab0cf7be83"
      },
      "execution_count": 4,
      "outputs": [
        {
          "output_type": "execute_result",
          "data": {
            "text/html": [
              "<div>\n",
              "<style scoped>\n",
              "    .dataframe tbody tr th:only-of-type {\n",
              "        vertical-align: middle;\n",
              "    }\n",
              "\n",
              "    .dataframe tbody tr th {\n",
              "        vertical-align: top;\n",
              "    }\n",
              "\n",
              "    .dataframe thead th {\n",
              "        text-align: right;\n",
              "    }\n",
              "</style>\n",
              "<table border=\"1\" class=\"dataframe\">\n",
              "  <thead>\n",
              "    <tr style=\"text-align: right;\">\n",
              "      <th></th>\n",
              "      <th>InvoiceNo</th>\n",
              "      <th>StockCode</th>\n",
              "      <th>Description</th>\n",
              "      <th>Quantity</th>\n",
              "      <th>InvoiceDate</th>\n",
              "      <th>UnitPrice</th>\n",
              "      <th>CustomerID</th>\n",
              "      <th>Country</th>\n",
              "      <th>member_start_date</th>\n",
              "      <th>first_trans_date</th>\n",
              "      <th>Revenue</th>\n",
              "    </tr>\n",
              "  </thead>\n",
              "  <tbody>\n",
              "    <tr>\n",
              "      <th>0</th>\n",
              "      <td>PS5327001158</td>\n",
              "      <td>JA01</td>\n",
              "      <td>晶淬雪潔顏乳100ml</td>\n",
              "      <td>8.0</td>\n",
              "      <td>2019-01-01</td>\n",
              "      <td>1259.0</td>\n",
              "      <td>9.100002e+12</td>\n",
              "      <td>中區</td>\n",
              "      <td>2019-12-09</td>\n",
              "      <td>2018-06-24</td>\n",
              "      <td>10072.0</td>\n",
              "    </tr>\n",
              "    <tr>\n",
              "      <th>1</th>\n",
              "      <td>PS5335020955</td>\n",
              "      <td>KG06</td>\n",
              "      <td>多肽亮眼乳霜20g-保濕型</td>\n",
              "      <td>8.0</td>\n",
              "      <td>2019-01-01</td>\n",
              "      <td>839.0</td>\n",
              "      <td>9.100003e+12</td>\n",
              "      <td>中區</td>\n",
              "      <td>2018-10-21</td>\n",
              "      <td>2018-10-21</td>\n",
              "      <td>6712.0</td>\n",
              "    </tr>\n",
              "    <tr>\n",
              "      <th>2</th>\n",
              "      <td>PS5335020955</td>\n",
              "      <td>BJ102</td>\n",
              "      <td>檸檬精油10ml MUI</td>\n",
              "      <td>8.0</td>\n",
              "      <td>2019-01-01</td>\n",
              "      <td>839.0</td>\n",
              "      <td>9.100003e+12</td>\n",
              "      <td>中區</td>\n",
              "      <td>2018-10-21</td>\n",
              "      <td>2018-10-21</td>\n",
              "      <td>6712.0</td>\n",
              "    </tr>\n",
              "    <tr>\n",
              "      <th>3</th>\n",
              "      <td>PS5335020955</td>\n",
              "      <td>JZA3G1</td>\n",
              "      <td>柚見快樂精油15ml MUI</td>\n",
              "      <td>-8.0</td>\n",
              "      <td>2019-01-01</td>\n",
              "      <td>-1501.0</td>\n",
              "      <td>9.100003e+12</td>\n",
              "      <td>中區</td>\n",
              "      <td>2018-10-21</td>\n",
              "      <td>2018-10-21</td>\n",
              "      <td>-12008.0</td>\n",
              "    </tr>\n",
              "    <tr>\n",
              "      <th>4</th>\n",
              "      <td>PS5444006919</td>\n",
              "      <td>BJ103</td>\n",
              "      <td>細花冬青香氛油10ml MUI</td>\n",
              "      <td>8.0</td>\n",
              "      <td>2019-01-01</td>\n",
              "      <td>672.0</td>\n",
              "      <td>9.100003e+12</td>\n",
              "      <td>南區</td>\n",
              "      <td>2018-12-04</td>\n",
              "      <td>2018-12-04</td>\n",
              "      <td>5376.0</td>\n",
              "    </tr>\n",
              "  </tbody>\n",
              "</table>\n",
              "</div>"
            ],
            "text/plain": [
              "      InvoiceNo StockCode  ... first_trans_date  Revenue\n",
              "0  PS5327001158      JA01  ...       2018-06-24  10072.0\n",
              "1  PS5335020955      KG06  ...       2018-10-21   6712.0\n",
              "2  PS5335020955     BJ102  ...       2018-10-21   6712.0\n",
              "3  PS5335020955    JZA3G1  ...       2018-10-21 -12008.0\n",
              "4  PS5444006919     BJ103  ...       2018-12-04   5376.0\n",
              "\n",
              "[5 rows x 11 columns]"
            ]
          },
          "metadata": {},
          "execution_count": 4
        }
      ]
    },
    {
      "cell_type": "code",
      "source": [
        "# 1.每個區域的收入分佈圖\n",
        "area_group = df.groupby('Country')['Revenue'].sum().reset_index()\n",
        "area_group['Country'] = area_group['Country'].astype(str)"
      ],
      "metadata": {
        "id": "Cq6ZrJdOE1OJ"
      },
      "execution_count": 9,
      "outputs": []
    },
    {
      "cell_type": "code",
      "source": [
        "figure,axis = plt.subplots(figsize=(18,6))\n",
        "sns.barplot(ax=axis, x='Country', y='Revenue',data=area_group)\n",
        "plt.show()"
      ],
      "metadata": {
        "colab": {
          "base_uri": "https://localhost:8080/",
          "height": 399
        },
        "id": "DfdBESZIGKV-",
        "outputId": "cd4a0344-cc62-480a-9acc-161e4d3f1e00"
      },
      "execution_count": 22,
      "outputs": [
        {
          "output_type": "display_data",
          "data": {
            "image/png": "[encoded data removed]",
            "text/plain": [
              "<Figure size 1296x432 with 1 Axes>"
            ]
          },
          "metadata": {
            "needs_background": "light"
          }
        }
      ]
    },
    {
      "cell_type": "code",
      "source": [
        "# 2.銷售最好的在每個地區的收入分佈\n",
        "# 銷售最好＝數量最多\n",
        "best_goods = df.groupby('StockCode')['Quantity'].sum().idxmax()\n",
        "goods_selected = df.loc[df['StockCode'] == best_goods]"
      ],
      "metadata": {
        "id": "2irtBcjTGLsH"
      },
      "execution_count": 60,
      "outputs": []
    },
    {
      "cell_type": "code",
      "source": [
        "goods_selected"
      ],
      "metadata": {
        "colab": {
          "base_uri": "https://localhost:8080/",
          "height": 419
        },
        "id": "5lPB0wQHQ-Pn",
        "outputId": "575f020a-294d-4c7f-afe0-50b57648930c"
      },
      "execution_count": 58,
      "outputs": [
        {
          "output_type": "execute_result",
          "data": {
            "text/html": [
              "<div>\n",
              "<style scoped>\n",
              "    .dataframe tbody tr th:only-of-type {\n",
              "        vertical-align: middle;\n",
              "    }\n",
              "\n",
              "    .dataframe tbody tr th {\n",
              "        vertical-align: top;\n",
              "    }\n",
              "\n",
              "    .dataframe thead th {\n",
              "        text-align: right;\n",
              "    }\n",
              "</style>\n",
              "<table border=\"1\" class=\"dataframe\">\n",
              "  <thead>\n",
              "    <tr style=\"text-align: right;\">\n",
              "      <th></th>\n",
              "      <th>InvoiceNo</th>\n",
              "      <th>StockCode</th>\n",
              "      <th>Description</th>\n",
              "      <th>Quantity</th>\n",
              "      <th>InvoiceDate</th>\n",
              "      <th>UnitPrice</th>\n",
              "      <th>CustomerID</th>\n",
              "      <th>Country</th>\n",
              "      <th>member_start_date</th>\n",
              "      <th>first_trans_date</th>\n",
              "      <th>Revenue</th>\n",
              "    </tr>\n",
              "  </thead>\n",
              "  <tbody>\n",
              "    <tr>\n",
              "      <th>10</th>\n",
              "      <td>PS5262016032</td>\n",
              "      <td>HB90A01</td>\n",
              "      <td>全背順氣活力SPA課程單堂</td>\n",
              "      <td>96.0</td>\n",
              "      <td>2019-01-01</td>\n",
              "      <td>11559.0</td>\n",
              "      <td>9.100000e+12</td>\n",
              "      <td>竹區</td>\n",
              "      <td>2007-01-02</td>\n",
              "      <td>2012-07-28</td>\n",
              "      <td>1109664.0</td>\n",
              "    </tr>\n",
              "    <tr>\n",
              "      <th>91</th>\n",
              "      <td>PS5411021544</td>\n",
              "      <td>HB90A01</td>\n",
              "      <td>全背順氣活力SPA課程單堂</td>\n",
              "      <td>8.0</td>\n",
              "      <td>2019-01-01</td>\n",
              "      <td>758.0</td>\n",
              "      <td>9.100003e+12</td>\n",
              "      <td>南區</td>\n",
              "      <td>NaN</td>\n",
              "      <td>2019-01-01</td>\n",
              "      <td>6064.0</td>\n",
              "    </tr>\n",
              "    <tr>\n",
              "      <th>110</th>\n",
              "      <td>PS5339002587</td>\n",
              "      <td>HB90A01</td>\n",
              "      <td>全背順氣活力SPA課程單堂</td>\n",
              "      <td>40.0</td>\n",
              "      <td>2019-01-01</td>\n",
              "      <td>6259.0</td>\n",
              "      <td>9.100002e+12</td>\n",
              "      <td>中區</td>\n",
              "      <td>2013-03-12</td>\n",
              "      <td>2013-02-19</td>\n",
              "      <td>250360.0</td>\n",
              "    </tr>\n",
              "    <tr>\n",
              "      <th>113</th>\n",
              "      <td>PS5339002587</td>\n",
              "      <td>HB90A01</td>\n",
              "      <td>全背順氣活力SPA課程單堂</td>\n",
              "      <td>8.0</td>\n",
              "      <td>2019-01-01</td>\n",
              "      <td>758.0</td>\n",
              "      <td>9.100002e+12</td>\n",
              "      <td>中區</td>\n",
              "      <td>2013-03-12</td>\n",
              "      <td>2013-02-19</td>\n",
              "      <td>6064.0</td>\n",
              "    </tr>\n",
              "    <tr>\n",
              "      <th>121</th>\n",
              "      <td>PS5454014871</td>\n",
              "      <td>HB90A01</td>\n",
              "      <td>全背順氣活力SPA課程單堂</td>\n",
              "      <td>88.0</td>\n",
              "      <td>2019-01-01</td>\n",
              "      <td>11559.0</td>\n",
              "      <td>9.100001e+12</td>\n",
              "      <td>南區</td>\n",
              "      <td>2011-08-17</td>\n",
              "      <td>2012-11-16</td>\n",
              "      <td>1017192.0</td>\n",
              "    </tr>\n",
              "    <tr>\n",
              "      <th>...</th>\n",
              "      <td>...</td>\n",
              "      <td>...</td>\n",
              "      <td>...</td>\n",
              "      <td>...</td>\n",
              "      <td>...</td>\n",
              "      <td>...</td>\n",
              "      <td>...</td>\n",
              "      <td>...</td>\n",
              "      <td>...</td>\n",
              "      <td>...</td>\n",
              "      <td>...</td>\n",
              "    </tr>\n",
              "    <tr>\n",
              "      <th>1403770</th>\n",
              "      <td>PS5455008980</td>\n",
              "      <td>HB90A01</td>\n",
              "      <td>全背順氣活力SPA課程單堂</td>\n",
              "      <td>8.0</td>\n",
              "      <td>2020-12-31</td>\n",
              "      <td>809.0</td>\n",
              "      <td>9.100003e+12</td>\n",
              "      <td>南區</td>\n",
              "      <td>NaN</td>\n",
              "      <td>2020-12-31</td>\n",
              "      <td>6472.0</td>\n",
              "    </tr>\n",
              "    <tr>\n",
              "      <th>1404004</th>\n",
              "      <td>PS5325021108</td>\n",
              "      <td>HB90A01</td>\n",
              "      <td>全背順氣活力SPA課程單堂</td>\n",
              "      <td>40.0</td>\n",
              "      <td>2020-12-31</td>\n",
              "      <td>6501.0</td>\n",
              "      <td>9.100003e+12</td>\n",
              "      <td>中區</td>\n",
              "      <td>2020-12-31</td>\n",
              "      <td>2020-12-31</td>\n",
              "      <td>260040.0</td>\n",
              "    </tr>\n",
              "    <tr>\n",
              "      <th>1404006</th>\n",
              "      <td>PS5325021108</td>\n",
              "      <td>HB90A01</td>\n",
              "      <td>全背順氣活力SPA課程單堂</td>\n",
              "      <td>8.0</td>\n",
              "      <td>2020-12-31</td>\n",
              "      <td>558.0</td>\n",
              "      <td>9.100003e+12</td>\n",
              "      <td>中區</td>\n",
              "      <td>2020-12-31</td>\n",
              "      <td>2020-12-31</td>\n",
              "      <td>4464.0</td>\n",
              "    </tr>\n",
              "    <tr>\n",
              "      <th>1404025</th>\n",
              "      <td>PS5440020366</td>\n",
              "      <td>HB90A01</td>\n",
              "      <td>全背順氣活力SPA課程單堂</td>\n",
              "      <td>8.0</td>\n",
              "      <td>2020-12-31</td>\n",
              "      <td>558.0</td>\n",
              "      <td>9.100003e+12</td>\n",
              "      <td>南區</td>\n",
              "      <td>NaN</td>\n",
              "      <td>2020-12-31</td>\n",
              "      <td>4464.0</td>\n",
              "    </tr>\n",
              "    <tr>\n",
              "      <th>1404223</th>\n",
              "      <td>PS5128003764</td>\n",
              "      <td>HB90A01</td>\n",
              "      <td>全背順氣活力SPA課程單堂</td>\n",
              "      <td>8.0</td>\n",
              "      <td>2020-12-31</td>\n",
              "      <td>558.0</td>\n",
              "      <td>9.100003e+12</td>\n",
              "      <td>台北A區</td>\n",
              "      <td>NaN</td>\n",
              "      <td>2020-12-31</td>\n",
              "      <td>4464.0</td>\n",
              "    </tr>\n",
              "  </tbody>\n",
              "</table>\n",
              "<p>58636 rows × 11 columns</p>\n",
              "</div>"
            ],
            "text/plain": [
              "            InvoiceNo StockCode  ... first_trans_date    Revenue\n",
              "10       PS5262016032   HB90A01  ...       2012-07-28  1109664.0\n",
              "91       PS5411021544   HB90A01  ...       2019-01-01     6064.0\n",
              "110      PS5339002587   HB90A01  ...       2013-02-19   250360.0\n",
              "113      PS5339002587   HB90A01  ...       2013-02-19     6064.0\n",
              "121      PS5454014871   HB90A01  ...       2012-11-16  1017192.0\n",
              "...               ...       ...  ...              ...        ...\n",
              "1403770  PS5455008980   HB90A01  ...       2020-12-31     6472.0\n",
              "1404004  PS5325021108   HB90A01  ...       2020-12-31   260040.0\n",
              "1404006  PS5325021108   HB90A01  ...       2020-12-31     4464.0\n",
              "1404025  PS5440020366   HB90A01  ...       2020-12-31     4464.0\n",
              "1404223  PS5128003764   HB90A01  ...       2020-12-31     4464.0\n",
              "\n",
              "[58636 rows x 11 columns]"
            ]
          },
          "metadata": {},
          "execution_count": 58
        }
      ]
    },
    {
      "cell_type": "code",
      "source": [
        "selected_group = goods_selected.groupby('Country')['Revenue'].sum().reset_index()\n",
        "selected_group['Country'] = selected_group['Country'].astype(str)"
      ],
      "metadata": {
        "id": "rVyPx70nKk-c"
      },
      "execution_count": 42,
      "outputs": []
    },
    {
      "cell_type": "code",
      "source": [
        "figure,axis = plt.subplots(1,2,figsize=(18,6))\n",
        "sns.lineplot(ax=axis[0], x='Country', y='Revenue',data=selected_group)\n",
        "hls_default_palette = sns.hls_palette()\n",
        "plt.pie(selected_group['Revenue'], labels = selected_group['Country'], colors = hls_default_palette) \n",
        "plt.show()"
      ],
      "metadata": {
        "colab": {
          "base_uri": "https://localhost:8080/",
          "height": 399
        },
        "id": "S-Zi0IS6KrQT",
        "outputId": "82ef5c0f-c1e7-4808-d2bf-afe022956191"
      },
      "execution_count": 47,
      "outputs": [
        {
          "output_type": "display_data",
          "data": {
            "image/png": "[encoded data removed]",
            "text/plain": [
              "<Figure size 1296x432 with 2 Axes>"
            ]
          },
          "metadata": {
            "needs_background": "light"
          }
        }
      ]
    },
    {
      "cell_type": "code",
      "source": [
        "# 3.每個季節購買的人數與收入（折線圖）\n",
        "season = {3:'春',4:'春',5:'春',6:'夏',7:'夏',8:'夏',9:'秋',10:'秋',11:'秋',12:'冬',1:'冬',2:'冬'}\n",
        "df['InvoiceDate'] = pd.to_datetime(df['InvoiceDate'])\n",
        "df['season'] = df['InvoiceDate'].apply(lambda date: season[date.month])\n",
        "season_group = df.groupby('season')['Revenue'].sum().reset_index()\n",
        "season_group.set_index('season',inplace=True)\n",
        "season_group['Number'] = df.groupby('season')['InvoiceNo'].nunique()"
      ],
      "metadata": {
        "id": "lCfuvJmILk8s"
      },
      "execution_count": 98,
      "outputs": []
    },
    {
      "cell_type": "code",
      "source": [
        "season_group['Revenue'] = season_group['Revenue']/100000"
      ],
      "metadata": {
        "id": "61fJjP1_UQq1"
      },
      "execution_count": 99,
      "outputs": []
    },
    {
      "cell_type": "code",
      "source": [
        "season_group"
      ],
      "metadata": {
        "colab": {
          "base_uri": "https://localhost:8080/",
          "height": 204
        },
        "id": "KCXQA3lZVkXH",
        "outputId": "bad44431-5a9b-4641-e675-5e1c1e96124e"
      },
      "execution_count": 100,
      "outputs": [
        {
          "output_type": "execute_result",
          "data": {
            "text/html": [
              "<div>\n",
              "<style scoped>\n",
              "    .dataframe tbody tr th:only-of-type {\n",
              "        vertical-align: middle;\n",
              "    }\n",
              "\n",
              "    .dataframe tbody tr th {\n",
              "        vertical-align: top;\n",
              "    }\n",
              "\n",
              "    .dataframe thead th {\n",
              "        text-align: right;\n",
              "    }\n",
              "</style>\n",
              "<table border=\"1\" class=\"dataframe\">\n",
              "  <thead>\n",
              "    <tr style=\"text-align: right;\">\n",
              "      <th></th>\n",
              "      <th>Revenue</th>\n",
              "      <th>Number</th>\n",
              "    </tr>\n",
              "    <tr>\n",
              "      <th>season</th>\n",
              "      <th></th>\n",
              "      <th></th>\n",
              "    </tr>\n",
              "  </thead>\n",
              "  <tbody>\n",
              "    <tr>\n",
              "      <th>冬</th>\n",
              "      <td>288324.08464</td>\n",
              "      <td>134749</td>\n",
              "    </tr>\n",
              "    <tr>\n",
              "      <th>夏</th>\n",
              "      <td>287949.72824</td>\n",
              "      <td>159982</td>\n",
              "    </tr>\n",
              "    <tr>\n",
              "      <th>春</th>\n",
              "      <td>289823.66792</td>\n",
              "      <td>167744</td>\n",
              "    </tr>\n",
              "    <tr>\n",
              "      <th>秋</th>\n",
              "      <td>296168.17544</td>\n",
              "      <td>154010</td>\n",
              "    </tr>\n",
              "  </tbody>\n",
              "</table>\n",
              "</div>"
            ],
            "text/plain": [
              "             Revenue  Number\n",
              "season                      \n",
              "冬       288324.08464  134749\n",
              "夏       287949.72824  159982\n",
              "春       289823.66792  167744\n",
              "秋       296168.17544  154010"
            ]
          },
          "metadata": {},
          "execution_count": 100
        }
      ]
    },
    {
      "cell_type": "code",
      "source": [
        "figure,axis = plt.subplots(figsize=(9,6))\n",
        "sns.lineplot(ax=axis, x='season', y='Number',data=season_group,label='來客數')\n",
        "sns.lineplot(ax=axis, x='season', y='Revenue',data=season_group, label='收入') \n",
        "axis.legend()\n",
        "plt.show()"
      ],
      "metadata": {
        "colab": {
          "base_uri": "https://localhost:8080/",
          "height": 388
        },
        "id": "mVc5X6d9Pi_B",
        "outputId": "4559f0b0-da32-4e6d-e7ee-15307692227f"
      },
      "execution_count": 104,
      "outputs": [
        {
          "output_type": "display_data",
          "data": {
            "image/png": "[encoded data removed]",
            "text/plain": [
              "<Figure size 648x432 with 1 Axes>"
            ]
          },
          "metadata": {
            "needs_background": "light"
          }
        }
      ]
    },
    {
      "cell_type": "code",
      "source": [
        ""
      ],
      "metadata": {
        "id": "q046mAsEQxFN"
      },
      "execution_count": null,
      "outputs": []
    }
  ]
}