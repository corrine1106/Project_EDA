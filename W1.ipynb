{
  "nbformat": 4,
  "nbformat_minor": 0,
  "metadata": {
    "colab": {
      "name": "W1",
      "provenance": [],
      "authorship_tag": "ABX9TyOOeeRGzWC3AeYlhl/qR8Wm",
      "include_colab_link": true
    },
    "kernelspec": {
      "name": "python3",
      "display_name": "Python 3"
    },
    "language_info": {
      "name": "python"
    }
  },
  "cells": [
    {
      "cell_type": "markdown",
      "metadata": {
        "id": "view-in-github",
        "colab_type": "text"
      },
      "source": [
        "<a href=\"https://colab.research.google.com/github/corrine1106/git_practice/blob/master/W1.ipynb\" target=\"_parent\"><img src=\"https://colab.research.google.com/assets/colab-badge.svg\" alt=\"Open In Colab\"/></a>"
      ]
    },
    {
      "cell_type": "markdown",
      "metadata": {
        "id": "5xMn3BTxncqT"
      },
      "source": [
        "## Z-score"
      ]
    },
    {
      "cell_type": "code",
      "metadata": {
        "id": "45TT1XigLOpM"
      },
      "source": [
        "import numpy as np\n",
        "from scipy import stats"
      ],
      "execution_count": 3,
      "outputs": []
    },
    {
      "cell_type": "code",
      "metadata": {
        "id": "K5AezewCLUlH"
      },
      "source": [
        "data = np.array([200,300,400,600,1000])"
      ],
      "execution_count": 4,
      "outputs": []
    },
    {
      "cell_type": "code",
      "metadata": {
        "id": "8EaHwyLHmcB1"
      },
      "source": [
        "zscore = stats.zscore(data)"
      ],
      "execution_count": 5,
      "outputs": []
    },
    {
      "cell_type": "code",
      "metadata": {
        "colab": {
          "base_uri": "https://localhost:8080/"
        },
        "id": "gxDwnvB3oe85",
        "outputId": "0989b482-0474-4ae0-e5eb-28433e8d65c0"
      },
      "source": [
        "zscore"
      ],
      "execution_count": 6,
      "outputs": [
        {
          "output_type": "execute_result",
          "data": {
            "text/plain": [
              "array([-1.06066017, -0.70710678, -0.35355339,  0.35355339,  1.76776695])"
            ]
          },
          "metadata": {},
          "execution_count": 6
        }
      ]
    },
    {
      "cell_type": "code",
      "metadata": {
        "id": "CxSxZLEYofxn"
      },
      "source": [
        "import sklearn.preprocessing as preprocess"
      ],
      "execution_count": 21,
      "outputs": []
    },
    {
      "cell_type": "code",
      "metadata": {
        "colab": {
          "base_uri": "https://localhost:8080/"
        },
        "id": "1yGYREiUqYCg",
        "outputId": "648befee-250e-41b9-cc8c-50f65b813378"
      },
      "source": [
        "preprocess.scale(data.reshape(-1,1))"
      ],
      "execution_count": 22,
      "outputs": [
        {
          "output_type": "execute_result",
          "data": {
            "text/plain": [
              "array([[-1.06066017],\n",
              "       [-0.70710678],\n",
              "       [-0.35355339],\n",
              "       [ 0.35355339],\n",
              "       [ 1.76776695]])"
            ]
          },
          "metadata": {},
          "execution_count": 22
        }
      ]
    },
    {
      "cell_type": "code",
      "metadata": {
        "id": "Q6i1I4X8sPTx"
      },
      "source": [
        "from sklearn.preprocessing import StandardScaler\n",
        "scale = StandardScaler()"
      ],
      "execution_count": 23,
      "outputs": []
    },
    {
      "cell_type": "code",
      "metadata": {
        "colab": {
          "base_uri": "https://localhost:8080/"
        },
        "id": "N5T1FjsdsQul",
        "outputId": "dc0c991d-6cd4-4bcb-80c7-d2de032ed7d2"
      },
      "source": [
        "scale.fit_transform(data.reshape(-1,1))"
      ],
      "execution_count": 24,
      "outputs": [
        {
          "output_type": "execute_result",
          "data": {
            "text/plain": [
              "array([[-1.06066017],\n",
              "       [-0.70710678],\n",
              "       [-0.35355339],\n",
              "       [ 0.35355339],\n",
              "       [ 1.76776695]])"
            ]
          },
          "metadata": {},
          "execution_count": 24
        }
      ]
    },
    {
      "cell_type": "markdown",
      "metadata": {
        "id": "n1GBHWdfpCPu"
      },
      "source": [
        "## Min-Max"
      ]
    },
    {
      "cell_type": "code",
      "metadata": {
        "id": "tqYgFwkdpENc"
      },
      "source": [
        "from sklearn.preprocessing import MinMaxScaler"
      ],
      "execution_count": 7,
      "outputs": []
    },
    {
      "cell_type": "code",
      "metadata": {
        "id": "-2sOPHXnphKU"
      },
      "source": [
        "scaler = MinMaxScaler()"
      ],
      "execution_count": 8,
      "outputs": []
    },
    {
      "cell_type": "code",
      "metadata": {
        "colab": {
          "base_uri": "https://localhost:8080/"
        },
        "id": "iHjG-vjdppOL",
        "outputId": "ce86ddcc-ade9-4c76-fda9-b6586c296c09"
      },
      "source": [
        "scaler.fit_transform(data.reshape(-1, 1))"
      ],
      "execution_count": 10,
      "outputs": [
        {
          "output_type": "execute_result",
          "data": {
            "text/plain": [
              "array([[0.   ],\n",
              "       [0.125],\n",
              "       [0.25 ],\n",
              "       [0.5  ],\n",
              "       [1.   ]])"
            ]
          },
          "metadata": {},
          "execution_count": 10
        }
      ]
    },
    {
      "cell_type": "code",
      "metadata": {
        "id": "0Ld4bIBbpx3v"
      },
      "source": [
        ""
      ],
      "execution_count": null,
      "outputs": []
    }
  ]
}