{
  "nbformat": 4,
  "nbformat_minor": 0,
  "metadata": {
    "colab": {
      "name": "EDA.ipynb",
      "provenance": [],
      "mount_file_id": "1F1RZqWB38Abt0aVkQFObdI6Jk14RgEk5",
      "authorship_tag": "ABX9TyOSI3idg7vV3jOnXlNpm95y",
      "include_colab_link": true
    },
    "kernelspec": {
      "name": "python3",
      "display_name": "Python 3"
    },
    "language_info": {
      "name": "python"
    }
  },
  "cells": [
    {
      "cell_type": "markdown",
      "metadata": {
        "id": "view-in-github",
        "colab_type": "text"
      },
      "source": [
        "<a href=\"https://colab.research.google.com/github/corrine1106/Project_EDA/blob/master/EDA.ipynb\" target=\"_parent\"><img src=\"https://colab.research.google.com/assets/colab-badge.svg\" alt=\"Open In Colab\"/></a>"
      ]
    },
    {
      "cell_type": "code",
      "metadata": {
        "id": "a4oyAfO41CM2"
      },
      "source": [
        "import pandas as pd\n",
        "import numpy as np\n",
        "\n",
        "pd.set_option('display.float_format',lambda x: '%.2f'%x)"
      ],
      "execution_count": 274,
      "outputs": []
    },
    {
      "cell_type": "code",
      "metadata": {
        "id": "CApiBl5S1MfX"
      },
      "source": [
        "df = pd.read_csv('/content/drive/MyDrive/T大使/data3_project.csv')"
      ],
      "execution_count": 275,
      "outputs": []
    },
    {
      "cell_type": "code",
      "metadata": {
        "colab": {
          "base_uri": "https://localhost:8080/",
          "height": 204
        },
        "id": "Z5uwmrs84OBE",
        "outputId": "70fae4dd-b078-41b8-a44f-2935ef22a71d"
      },
      "source": [
        "df.head()\n",
        "# quantity<0 == 退換貨"
      ],
      "execution_count": 276,
      "outputs": [
        {
          "output_type": "execute_result",
          "data": {
            "text/html": [
              "<div>\n",
              "<style scoped>\n",
              "    .dataframe tbody tr th:only-of-type {\n",
              "        vertical-align: middle;\n",
              "    }\n",
              "\n",
              "    .dataframe tbody tr th {\n",
              "        vertical-align: top;\n",
              "    }\n",
              "\n",
              "    .dataframe thead th {\n",
              "        text-align: right;\n",
              "    }\n",
              "</style>\n",
              "<table border=\"1\" class=\"dataframe\">\n",
              "  <thead>\n",
              "    <tr style=\"text-align: right;\">\n",
              "      <th></th>\n",
              "      <th>InvoiceNo</th>\n",
              "      <th>StockCode</th>\n",
              "      <th>Description</th>\n",
              "      <th>Quantity</th>\n",
              "      <th>InvoiceDate</th>\n",
              "      <th>UnitPrice</th>\n",
              "      <th>CustomerID</th>\n",
              "      <th>Country</th>\n",
              "      <th>member_start_date</th>\n",
              "      <th>first_trans_date</th>\n",
              "    </tr>\n",
              "  </thead>\n",
              "  <tbody>\n",
              "    <tr>\n",
              "      <th>0</th>\n",
              "      <td>PS5327001158</td>\n",
              "      <td>JA01</td>\n",
              "      <td>晶淬雪潔顏乳100ml</td>\n",
              "      <td>8.00</td>\n",
              "      <td>2019-01-01</td>\n",
              "      <td>1259.00</td>\n",
              "      <td>9100002488768.00</td>\n",
              "      <td>中區</td>\n",
              "      <td>2019-12-09</td>\n",
              "      <td>2018-06-24</td>\n",
              "    </tr>\n",
              "    <tr>\n",
              "      <th>1</th>\n",
              "      <td>PS5335020955</td>\n",
              "      <td>KG06</td>\n",
              "      <td>多肽亮眼乳霜20g-保濕型</td>\n",
              "      <td>8.00</td>\n",
              "      <td>2019-01-01</td>\n",
              "      <td>839.00</td>\n",
              "      <td>9100002556566.00</td>\n",
              "      <td>中區</td>\n",
              "      <td>2018-10-21</td>\n",
              "      <td>2018-10-21</td>\n",
              "    </tr>\n",
              "    <tr>\n",
              "      <th>2</th>\n",
              "      <td>PS5335020955</td>\n",
              "      <td>BJ102</td>\n",
              "      <td>檸檬精油10ml MUI</td>\n",
              "      <td>8.00</td>\n",
              "      <td>2019-01-01</td>\n",
              "      <td>839.00</td>\n",
              "      <td>9100002556566.00</td>\n",
              "      <td>中區</td>\n",
              "      <td>2018-10-21</td>\n",
              "      <td>2018-10-21</td>\n",
              "    </tr>\n",
              "    <tr>\n",
              "      <th>3</th>\n",
              "      <td>PS5335020955</td>\n",
              "      <td>JZA3G1</td>\n",
              "      <td>柚見快樂精油15ml MUI</td>\n",
              "      <td>-8.00</td>\n",
              "      <td>2019-01-01</td>\n",
              "      <td>-1501.00</td>\n",
              "      <td>9100002556566.00</td>\n",
              "      <td>中區</td>\n",
              "      <td>2018-10-21</td>\n",
              "      <td>2018-10-21</td>\n",
              "    </tr>\n",
              "    <tr>\n",
              "      <th>4</th>\n",
              "      <td>PS5444006919</td>\n",
              "      <td>BJ103</td>\n",
              "      <td>細花冬青香氛油10ml MUI</td>\n",
              "      <td>8.00</td>\n",
              "      <td>2019-01-01</td>\n",
              "      <td>672.00</td>\n",
              "      <td>9100002582077.00</td>\n",
              "      <td>南區</td>\n",
              "      <td>2018-12-04</td>\n",
              "      <td>2018-12-04</td>\n",
              "    </tr>\n",
              "  </tbody>\n",
              "</table>\n",
              "</div>"
            ],
            "text/plain": [
              "      InvoiceNo StockCode  ... member_start_date  first_trans_date\n",
              "0  PS5327001158      JA01  ...        2019-12-09        2018-06-24\n",
              "1  PS5335020955      KG06  ...        2018-10-21        2018-10-21\n",
              "2  PS5335020955     BJ102  ...        2018-10-21        2018-10-21\n",
              "3  PS5335020955    JZA3G1  ...        2018-10-21        2018-10-21\n",
              "4  PS5444006919     BJ103  ...        2018-12-04        2018-12-04\n",
              "\n",
              "[5 rows x 10 columns]"
            ]
          },
          "metadata": {},
          "execution_count": 276
        }
      ]
    },
    {
      "cell_type": "code",
      "metadata": {
        "colab": {
          "base_uri": "https://localhost:8080/",
          "height": 419
        },
        "id": "Qbw5YfJG4fYe",
        "outputId": "cdf6eed0-60ce-4912-ded5-e2e265099c2e"
      },
      "source": [
        "# 練習1\n",
        "df.loc[df['Quantity']>2,['StockCode','Description','Quantity','InvoiceDate','UnitPrice']]"
      ],
      "execution_count": 277,
      "outputs": [
        {
          "output_type": "execute_result",
          "data": {
            "text/html": [
              "<div>\n",
              "<style scoped>\n",
              "    .dataframe tbody tr th:only-of-type {\n",
              "        vertical-align: middle;\n",
              "    }\n",
              "\n",
              "    .dataframe tbody tr th {\n",
              "        vertical-align: top;\n",
              "    }\n",
              "\n",
              "    .dataframe thead th {\n",
              "        text-align: right;\n",
              "    }\n",
              "</style>\n",
              "<table border=\"1\" class=\"dataframe\">\n",
              "  <thead>\n",
              "    <tr style=\"text-align: right;\">\n",
              "      <th></th>\n",
              "      <th>StockCode</th>\n",
              "      <th>Description</th>\n",
              "      <th>Quantity</th>\n",
              "      <th>InvoiceDate</th>\n",
              "      <th>UnitPrice</th>\n",
              "    </tr>\n",
              "  </thead>\n",
              "  <tbody>\n",
              "    <tr>\n",
              "      <th>0</th>\n",
              "      <td>JA01</td>\n",
              "      <td>晶淬雪潔顏乳100ml</td>\n",
              "      <td>8.00</td>\n",
              "      <td>2019-01-01</td>\n",
              "      <td>1259.00</td>\n",
              "    </tr>\n",
              "    <tr>\n",
              "      <th>1</th>\n",
              "      <td>KG06</td>\n",
              "      <td>多肽亮眼乳霜20g-保濕型</td>\n",
              "      <td>8.00</td>\n",
              "      <td>2019-01-01</td>\n",
              "      <td>839.00</td>\n",
              "    </tr>\n",
              "    <tr>\n",
              "      <th>2</th>\n",
              "      <td>BJ102</td>\n",
              "      <td>檸檬精油10ml MUI</td>\n",
              "      <td>8.00</td>\n",
              "      <td>2019-01-01</td>\n",
              "      <td>839.00</td>\n",
              "    </tr>\n",
              "    <tr>\n",
              "      <th>4</th>\n",
              "      <td>BJ103</td>\n",
              "      <td>細花冬青香氛油10ml MUI</td>\n",
              "      <td>8.00</td>\n",
              "      <td>2019-01-01</td>\n",
              "      <td>672.00</td>\n",
              "    </tr>\n",
              "    <tr>\n",
              "      <th>5</th>\n",
              "      <td>K8018</td>\n",
              "      <td>植粹養護潤髮乳475ml</td>\n",
              "      <td>8.00</td>\n",
              "      <td>2019-01-01</td>\n",
              "      <td>549.00</td>\n",
              "    </tr>\n",
              "    <tr>\n",
              "      <th>...</th>\n",
              "      <td>...</td>\n",
              "      <td>...</td>\n",
              "      <td>...</td>\n",
              "      <td>...</td>\n",
              "      <td>...</td>\n",
              "    </tr>\n",
              "    <tr>\n",
              "      <th>1404430</th>\n",
              "      <td>KQ02</td>\n",
              "      <td>玫瑰晶萃活膚液130ml</td>\n",
              "      <td>16.00</td>\n",
              "      <td>2020-12-31</td>\n",
              "      <td>2946.00</td>\n",
              "    </tr>\n",
              "    <tr>\n",
              "      <th>1404431</th>\n",
              "      <td>GAXFG1</td>\n",
              "      <td>真正除臭抗菌噴霧(銀離子迷迭香)250ml</td>\n",
              "      <td>8.00</td>\n",
              "      <td>2020-12-31</td>\n",
              "      <td>309.00</td>\n",
              "    </tr>\n",
              "    <tr>\n",
              "      <th>1404432</th>\n",
              "      <td>MAB2G1</td>\n",
              "      <td>BA-5肌密全效噴霧奇蹟水70ml</td>\n",
              "      <td>8.00</td>\n",
              "      <td>2020-12-31</td>\n",
              "      <td>1094.00</td>\n",
              "    </tr>\n",
              "    <tr>\n",
              "      <th>1404433</th>\n",
              "      <td>WD096</td>\n",
              "      <td>緊緻保濕裸膚羽翼面膜25ml-零售單包</td>\n",
              "      <td>16.00</td>\n",
              "      <td>2020-12-31</td>\n",
              "      <td>165.00</td>\n",
              "    </tr>\n",
              "    <tr>\n",
              "      <th>1404434</th>\n",
              "      <td>GAXFG2</td>\n",
              "      <td>真正除臭抗菌噴霧(銀離子迷迭香)350ml</td>\n",
              "      <td>8.00</td>\n",
              "      <td>2020-12-31</td>\n",
              "      <td>441.00</td>\n",
              "    </tr>\n",
              "  </tbody>\n",
              "</table>\n",
              "<p>1397796 rows × 5 columns</p>\n",
              "</div>"
            ],
            "text/plain": [
              "        StockCode            Description  Quantity InvoiceDate  UnitPrice\n",
              "0            JA01            晶淬雪潔顏乳100ml      8.00  2019-01-01    1259.00\n",
              "1            KG06          多肽亮眼乳霜20g-保濕型      8.00  2019-01-01     839.00\n",
              "2           BJ102           檸檬精油10ml MUI      8.00  2019-01-01     839.00\n",
              "4           BJ103        細花冬青香氛油10ml MUI      8.00  2019-01-01     672.00\n",
              "5           K8018           植粹養護潤髮乳475ml      8.00  2019-01-01     549.00\n",
              "...           ...                    ...       ...         ...        ...\n",
              "1404430      KQ02           玫瑰晶萃活膚液130ml     16.00  2020-12-31    2946.00\n",
              "1404431    GAXFG1  真正除臭抗菌噴霧(銀離子迷迭香)250ml      8.00  2020-12-31     309.00\n",
              "1404432    MAB2G1      BA-5肌密全效噴霧奇蹟水70ml      8.00  2020-12-31    1094.00\n",
              "1404433     WD096    緊緻保濕裸膚羽翼面膜25ml-零售單包     16.00  2020-12-31     165.00\n",
              "1404434    GAXFG2  真正除臭抗菌噴霧(銀離子迷迭香)350ml      8.00  2020-12-31     441.00\n",
              "\n",
              "[1397796 rows x 5 columns]"
            ]
          },
          "metadata": {},
          "execution_count": 277
        }
      ]
    },
    {
      "cell_type": "code",
      "metadata": {
        "colab": {
          "base_uri": "https://localhost:8080/"
        },
        "id": "AzOziR_C5xHj",
        "outputId": "9588bcf2-3d8e-4b25-c3ee-1b30eb17fa08"
      },
      "source": [
        "# 練習2\n",
        "df.loc[1000,['CustomerID','Description']]"
      ],
      "execution_count": 278,
      "outputs": [
        {
          "output_type": "execute_result",
          "data": {
            "text/plain": [
              "CustomerID    9100001536064.00\n",
              "Description        頭部活氧熱舒壓課程單堂\n",
              "Name: 1000, dtype: object"
            ]
          },
          "metadata": {},
          "execution_count": 278
        }
      ]
    },
    {
      "cell_type": "markdown",
      "metadata": {
        "id": "yWQxs9OX2SbZ"
      },
      "source": [
        "# Data Wrangling"
      ]
    },
    {
      "cell_type": "code",
      "metadata": {
        "colab": {
          "base_uri": "https://localhost:8080/"
        },
        "id": "sO7x8tlU2EZE",
        "outputId": "1cbe6625-8c9d-45cf-8e4d-08a9077fced8"
      },
      "source": [
        "df.info()"
      ],
      "execution_count": 279,
      "outputs": [
        {
          "output_type": "stream",
          "name": "stdout",
          "text": [
            "<class 'pandas.core.frame.DataFrame'>\n",
            "RangeIndex: 1404435 entries, 0 to 1404434\n",
            "Data columns (total 10 columns):\n",
            " #   Column             Non-Null Count    Dtype  \n",
            "---  ------             --------------    -----  \n",
            " 0   InvoiceNo          1404435 non-null  object \n",
            " 1   StockCode          1404435 non-null  object \n",
            " 2   Description        1404435 non-null  object \n",
            " 3   Quantity           1404435 non-null  float64\n",
            " 4   InvoiceDate        1404435 non-null  object \n",
            " 5   UnitPrice          1404435 non-null  float64\n",
            " 6   CustomerID         1403724 non-null  float64\n",
            " 7   Country            1404435 non-null  object \n",
            " 8   member_start_date  1366651 non-null  object \n",
            " 9   first_trans_date   1400412 non-null  object \n",
            "dtypes: float64(3), object(7)\n",
            "memory usage: 107.2+ MB\n"
          ]
        }
      ]
    },
    {
      "cell_type": "code",
      "metadata": {
        "colab": {
          "base_uri": "https://localhost:8080/"
        },
        "id": "0f6Vsocr4Q81",
        "outputId": "52fa5f84-1e6b-4dd2-b9a4-ec96aec93360"
      },
      "source": [
        "df.Description.value_counts()"
      ],
      "execution_count": 280,
      "outputs": [
        {
          "output_type": "execute_result",
          "data": {
            "text/plain": [
              "全背順氣活力SPA課程單堂            58636\n",
              "清除環境中腸病毒濕紙巾10抽           52599\n",
              "plus5智頻美塑儀課程單堂           46660\n",
              "(新)溫熱刮痧課程單堂              34129\n",
              "全身健康優化SPA課程單堂            33770\n",
              "                         ...  \n",
              "平衡調理素1000ml                  1\n",
              "手部璀璨凝膠課程單堂                   1\n",
              "新極線音波拉提100條(單堂200條專用)        1\n",
              "淋巴循環舒壓SPA單堂                  1\n",
              "新精準無痕BOTOX瘦肩/美肩(單堂會員)        1\n",
              "Name: Description, Length: 870, dtype: int64"
            ]
          },
          "metadata": {},
          "execution_count": 280
        }
      ]
    },
    {
      "cell_type": "code",
      "metadata": {
        "colab": {
          "base_uri": "https://localhost:8080/"
        },
        "id": "KdGuHlfT4rDa",
        "outputId": "088362b1-b21b-409e-ed94-3dbfd14774c9"
      },
      "source": [
        "df.isna().any()"
      ],
      "execution_count": 281,
      "outputs": [
        {
          "output_type": "execute_result",
          "data": {
            "text/plain": [
              "InvoiceNo            False\n",
              "StockCode            False\n",
              "Description          False\n",
              "Quantity             False\n",
              "InvoiceDate          False\n",
              "UnitPrice            False\n",
              "CustomerID            True\n",
              "Country              False\n",
              "member_start_date     True\n",
              "first_trans_date      True\n",
              "dtype: bool"
            ]
          },
          "metadata": {},
          "execution_count": 281
        }
      ]
    },
    {
      "cell_type": "code",
      "metadata": {
        "colab": {
          "base_uri": "https://localhost:8080/",
          "height": 592
        },
        "id": "ENLjhyA92zLE",
        "outputId": "2e60e79a-bfb9-465e-ee4b-525ec36775cb"
      },
      "source": [
        "df.loc[df['CustomerID'].isna()]"
      ],
      "execution_count": 282,
      "outputs": [
        {
          "output_type": "execute_result",
          "data": {
            "text/html": [
              "<div>\n",
              "<style scoped>\n",
              "    .dataframe tbody tr th:only-of-type {\n",
              "        vertical-align: middle;\n",
              "    }\n",
              "\n",
              "    .dataframe tbody tr th {\n",
              "        vertical-align: top;\n",
              "    }\n",
              "\n",
              "    .dataframe thead th {\n",
              "        text-align: right;\n",
              "    }\n",
              "</style>\n",
              "<table border=\"1\" class=\"dataframe\">\n",
              "  <thead>\n",
              "    <tr style=\"text-align: right;\">\n",
              "      <th></th>\n",
              "      <th>InvoiceNo</th>\n",
              "      <th>StockCode</th>\n",
              "      <th>Description</th>\n",
              "      <th>Quantity</th>\n",
              "      <th>InvoiceDate</th>\n",
              "      <th>UnitPrice</th>\n",
              "      <th>CustomerID</th>\n",
              "      <th>Country</th>\n",
              "      <th>member_start_date</th>\n",
              "      <th>first_trans_date</th>\n",
              "    </tr>\n",
              "  </thead>\n",
              "  <tbody>\n",
              "    <tr>\n",
              "      <th>1544</th>\n",
              "      <td>PS1001008016</td>\n",
              "      <td>MD-1265</td>\n",
              "      <td>2019營運售全背</td>\n",
              "      <td>32.00</td>\n",
              "      <td>2019-01-03</td>\n",
              "      <td>1859.00</td>\n",
              "      <td>nan</td>\n",
              "      <td>總管理處</td>\n",
              "      <td>NaN</td>\n",
              "      <td>NaN</td>\n",
              "    </tr>\n",
              "    <tr>\n",
              "      <th>1545</th>\n",
              "      <td>PS1001008016</td>\n",
              "      <td>JZA4G2</td>\n",
              "      <td>輕鬆．清新複方按摩油30ml</td>\n",
              "      <td>40.00</td>\n",
              "      <td>2019-01-03</td>\n",
              "      <td>2699.00</td>\n",
              "      <td>nan</td>\n",
              "      <td>總管理處</td>\n",
              "      <td>NaN</td>\n",
              "      <td>NaN</td>\n",
              "    </tr>\n",
              "    <tr>\n",
              "      <th>3470</th>\n",
              "      <td>PS1001008018</td>\n",
              "      <td>MD-1266</td>\n",
              "      <td>2019營運售太極</td>\n",
              "      <td>8.00</td>\n",
              "      <td>2019-01-05</td>\n",
              "      <td>509.00</td>\n",
              "      <td>nan</td>\n",
              "      <td>總管理處</td>\n",
              "      <td>NaN</td>\n",
              "      <td>NaN</td>\n",
              "    </tr>\n",
              "    <tr>\n",
              "      <th>3471</th>\n",
              "      <td>PS1001008018</td>\n",
              "      <td>K8016</td>\n",
              "      <td>植粹清香沐浴精500ml</td>\n",
              "      <td>8.00</td>\n",
              "      <td>2019-01-05</td>\n",
              "      <td>497.00</td>\n",
              "      <td>nan</td>\n",
              "      <td>總管理處</td>\n",
              "      <td>NaN</td>\n",
              "      <td>NaN</td>\n",
              "    </tr>\n",
              "    <tr>\n",
              "      <th>3472</th>\n",
              "      <td>PS1001008018</td>\n",
              "      <td>K8017</td>\n",
              "      <td>植粹養護洗髮精500ml</td>\n",
              "      <td>8.00</td>\n",
              "      <td>2019-01-05</td>\n",
              "      <td>497.00</td>\n",
              "      <td>nan</td>\n",
              "      <td>總管理處</td>\n",
              "      <td>NaN</td>\n",
              "      <td>NaN</td>\n",
              "    </tr>\n",
              "    <tr>\n",
              "      <th>...</th>\n",
              "      <td>...</td>\n",
              "      <td>...</td>\n",
              "      <td>...</td>\n",
              "      <td>...</td>\n",
              "      <td>...</td>\n",
              "      <td>...</td>\n",
              "      <td>...</td>\n",
              "      <td>...</td>\n",
              "      <td>...</td>\n",
              "      <td>...</td>\n",
              "    </tr>\n",
              "    <tr>\n",
              "      <th>1370084</th>\n",
              "      <td>PS5525021426</td>\n",
              "      <td>BJ079</td>\n",
              "      <td>佐登妮絲６號複方精油10ml</td>\n",
              "      <td>8.00</td>\n",
              "      <td>2020-12-14</td>\n",
              "      <td>1099.00</td>\n",
              "      <td>nan</td>\n",
              "      <td>高屏全區</td>\n",
              "      <td>NaN</td>\n",
              "      <td>NaN</td>\n",
              "    </tr>\n",
              "    <tr>\n",
              "      <th>1370085</th>\n",
              "      <td>PS5525021426</td>\n",
              "      <td>JYA1G1</td>\n",
              "      <td>玫瑰複方精油5ml HALAL</td>\n",
              "      <td>8.00</td>\n",
              "      <td>2020-12-14</td>\n",
              "      <td>1099.00</td>\n",
              "      <td>nan</td>\n",
              "      <td>高屏全區</td>\n",
              "      <td>NaN</td>\n",
              "      <td>NaN</td>\n",
              "    </tr>\n",
              "    <tr>\n",
              "      <th>1382674</th>\n",
              "      <td>PS5455008904</td>\n",
              "      <td>ZFE02</td>\n",
              "      <td>工本費</td>\n",
              "      <td>8.00</td>\n",
              "      <td>2020-12-21</td>\n",
              "      <td>509.00</td>\n",
              "      <td>nan</td>\n",
              "      <td>南區</td>\n",
              "      <td>NaN</td>\n",
              "      <td>NaN</td>\n",
              "    </tr>\n",
              "    <tr>\n",
              "      <th>1396234</th>\n",
              "      <td>PS5414018463</td>\n",
              "      <td>JZB4G1</td>\n",
              "      <td>呼暢護隨精油30ml</td>\n",
              "      <td>-8.00</td>\n",
              "      <td>2020-12-28</td>\n",
              "      <td>-1720.00</td>\n",
              "      <td>nan</td>\n",
              "      <td>南區</td>\n",
              "      <td>NaN</td>\n",
              "      <td>NaN</td>\n",
              "    </tr>\n",
              "    <tr>\n",
              "      <th>1396235</th>\n",
              "      <td>PS5414018463</td>\n",
              "      <td>KQ02</td>\n",
              "      <td>玫瑰晶萃活膚液130ml</td>\n",
              "      <td>8.00</td>\n",
              "      <td>2020-12-28</td>\n",
              "      <td>1838.00</td>\n",
              "      <td>nan</td>\n",
              "      <td>南區</td>\n",
              "      <td>NaN</td>\n",
              "      <td>NaN</td>\n",
              "    </tr>\n",
              "  </tbody>\n",
              "</table>\n",
              "<p>711 rows × 10 columns</p>\n",
              "</div>"
            ],
            "text/plain": [
              "            InvoiceNo StockCode  ... member_start_date  first_trans_date\n",
              "1544     PS1001008016   MD-1265  ...               NaN               NaN\n",
              "1545     PS1001008016    JZA4G2  ...               NaN               NaN\n",
              "3470     PS1001008018   MD-1266  ...               NaN               NaN\n",
              "3471     PS1001008018     K8016  ...               NaN               NaN\n",
              "3472     PS1001008018     K8017  ...               NaN               NaN\n",
              "...               ...       ...  ...               ...               ...\n",
              "1370084  PS5525021426     BJ079  ...               NaN               NaN\n",
              "1370085  PS5525021426    JYA1G1  ...               NaN               NaN\n",
              "1382674  PS5455008904     ZFE02  ...               NaN               NaN\n",
              "1396234  PS5414018463    JZB4G1  ...               NaN               NaN\n",
              "1396235  PS5414018463      KQ02  ...               NaN               NaN\n",
              "\n",
              "[711 rows x 10 columns]"
            ]
          },
          "metadata": {},
          "execution_count": 282
        }
      ]
    },
    {
      "cell_type": "code",
      "metadata": {
        "id": "An_Z-2yf4x2e"
      },
      "source": [
        "df.drop(df.loc[df['CustomerID'].isna()].index, inplace=True)"
      ],
      "execution_count": 283,
      "outputs": []
    },
    {
      "cell_type": "code",
      "metadata": {
        "colab": {
          "base_uri": "https://localhost:8080/"
        },
        "id": "d2Bemfn16vZe",
        "outputId": "c64f7109-05de-4b77-da79-3a293e340aa3"
      },
      "source": [
        "df.shape"
      ],
      "execution_count": 284,
      "outputs": [
        {
          "output_type": "execute_result",
          "data": {
            "text/plain": [
              "(1403724, 10)"
            ]
          },
          "metadata": {},
          "execution_count": 284
        }
      ]
    },
    {
      "cell_type": "code",
      "metadata": {
        "colab": {
          "base_uri": "https://localhost:8080/"
        },
        "id": "63b_x-zl9j1O",
        "outputId": "aee25532-dfde-45f5-99ce-a10782e0721c"
      },
      "source": [
        "len(df.loc[(df['Quantity']<0) | (df['UnitPrice']<0)])"
      ],
      "execution_count": 285,
      "outputs": [
        {
          "output_type": "execute_result",
          "data": {
            "text/plain": [
              "6612"
            ]
          },
          "metadata": {},
          "execution_count": 285
        }
      ]
    },
    {
      "cell_type": "code",
      "metadata": {
        "id": "U7ESsM8l89zj"
      },
      "source": [
        "# df.loc[(df['Quantity']<0) | (df['UnitPrice']<0)].loc[~df.loc[(df['Quantity']<0) | (df['UnitPrice']<0)].apply(lambda x: True if (x['Quantity']<0) & (x['UnitPrice']<0) else False,axis=1)]\n",
        "# df.loc[(df['Quantity']<0) | (df['UnitPrice']<0)].loc[df.loc[(df['Quantity']<0) | (df['UnitPrice']<0)].apply(lambda x: True if (x['Quantity']<0) & (x['UnitPrice']<0) else False,axis=1)]"
      ],
      "execution_count": 286,
      "outputs": []
    },
    {
      "cell_type": "code",
      "metadata": {
        "id": "kI4Yn2mGACZ-"
      },
      "source": [
        ""
      ],
      "execution_count": 286,
      "outputs": []
    },
    {
      "cell_type": "code",
      "metadata": {
        "id": "o5NrkUTY-LPS"
      },
      "source": [
        "def transfer_revernue(row):\n",
        "  if (row['Quantity'] < 0) & (row['UnitPrice']<0):\n",
        "    return row['Quantity']*-row['UnitPrice']\n",
        "  else:\n",
        "    return row['Quantity']*row['UnitPrice']\n",
        "    "
      ],
      "execution_count": 287,
      "outputs": []
    },
    {
      "cell_type": "code",
      "metadata": {
        "id": "OuBXvcsN6vU5"
      },
      "source": [
        "df['Revenue'] = df.apply(transfer_revernue,axis=1)"
      ],
      "execution_count": 288,
      "outputs": []
    },
    {
      "cell_type": "code",
      "metadata": {
        "colab": {
          "base_uri": "https://localhost:8080/"
        },
        "id": "f9a9Wl2f6vQa",
        "outputId": "23adc800-24b8-4e6c-f78d-f669fbaf41cc"
      },
      "source": [
        "df.Revenue.describe()"
      ],
      "execution_count": 289,
      "outputs": [
        {
          "output_type": "execute_result",
          "data": {
            "text/plain": [
              "count     1403724.00\n",
              "mean        82668.84\n",
              "std        922440.49\n",
              "min     -41471304.00\n",
              "25%          4672.00\n",
              "50%          8752.00\n",
              "75%         25904.00\n",
              "max     702441768.00\n",
              "Name: Revenue, dtype: float64"
            ]
          },
          "metadata": {},
          "execution_count": 289
        }
      ]
    },
    {
      "cell_type": "code",
      "metadata": {
        "colab": {
          "base_uri": "https://localhost:8080/",
          "height": 117
        },
        "id": "QhPLMYFfWb5y",
        "outputId": "7b003a3a-f3ef-4c83-e986-1d3755be6354"
      },
      "source": [
        "df.loc[df['Revenue'] == -41471304.00]"
      ],
      "execution_count": 290,
      "outputs": [
        {
          "output_type": "execute_result",
          "data": {
            "text/html": [
              "<div>\n",
              "<style scoped>\n",
              "    .dataframe tbody tr th:only-of-type {\n",
              "        vertical-align: middle;\n",
              "    }\n",
              "\n",
              "    .dataframe tbody tr th {\n",
              "        vertical-align: top;\n",
              "    }\n",
              "\n",
              "    .dataframe thead th {\n",
              "        text-align: right;\n",
              "    }\n",
              "</style>\n",
              "<table border=\"1\" class=\"dataframe\">\n",
              "  <thead>\n",
              "    <tr style=\"text-align: right;\">\n",
              "      <th></th>\n",
              "      <th>InvoiceNo</th>\n",
              "      <th>StockCode</th>\n",
              "      <th>Description</th>\n",
              "      <th>Quantity</th>\n",
              "      <th>InvoiceDate</th>\n",
              "      <th>UnitPrice</th>\n",
              "      <th>CustomerID</th>\n",
              "      <th>Country</th>\n",
              "      <th>member_start_date</th>\n",
              "      <th>first_trans_date</th>\n",
              "      <th>Revenue</th>\n",
              "    </tr>\n",
              "  </thead>\n",
              "  <tbody>\n",
              "    <tr>\n",
              "      <th>437807</th>\n",
              "      <td>PR5373003318</td>\n",
              "      <td>HE60A01</td>\n",
              "      <td>膠原晶球水導膜課程單堂</td>\n",
              "      <td>-744.00</td>\n",
              "      <td>2019-08-30</td>\n",
              "      <td>-55741.00</td>\n",
              "      <td>9100000605501.00</td>\n",
              "      <td>彰雲區</td>\n",
              "      <td>2010-05-10</td>\n",
              "      <td>2012-10-12</td>\n",
              "      <td>-41471304.00</td>\n",
              "    </tr>\n",
              "  </tbody>\n",
              "</table>\n",
              "</div>"
            ],
            "text/plain": [
              "           InvoiceNo StockCode  ... first_trans_date      Revenue\n",
              "437807  PR5373003318   HE60A01  ...       2012-10-12 -41471304.00\n",
              "\n",
              "[1 rows x 11 columns]"
            ]
          },
          "metadata": {},
          "execution_count": 290
        }
      ]
    },
    {
      "cell_type": "code",
      "metadata": {
        "colab": {
          "base_uri": "https://localhost:8080/",
          "height": 293
        },
        "id": "ihrh2ungU2-l",
        "outputId": "0319d352-8dab-4f6f-b5d9-d20b2e4e4c24"
      },
      "source": [
        "df.Revenue.plot.box()"
      ],
      "execution_count": 291,
      "outputs": [
        {
          "output_type": "execute_result",
          "data": {
            "text/plain": [
              "<matplotlib.axes._subplots.AxesSubplot at 0x7f463256b750>"
            ]
          },
          "metadata": {},
          "execution_count": 291
        },
        {
          "output_type": "display_data",
          "data": {
            "image/png": "[encoded data removed]",
            "text/plain": [
              "<Figure size 432x288 with 1 Axes>"
            ]
          },
          "metadata": {
            "needs_background": "light"
          }
        }
      ]
    },
    {
      "cell_type": "markdown",
      "source": [
        "# 異常值"
      ],
      "metadata": {
        "id": "xr6Ip--oXIyS"
      }
    },
    {
      "cell_type": "markdown",
      "metadata": {
        "id": "nmjQShZqXfKK"
      },
      "source": [
        "## Z-score"
      ]
    },
    {
      "cell_type": "code",
      "metadata": {
        "id": "QZnEGnAXXvGM"
      },
      "source": [
        "df1 = df.copy()"
      ],
      "execution_count": 292,
      "outputs": []
    },
    {
      "cell_type": "code",
      "source": [
        "def Z_score(column,df):\n",
        "    df_temp = df.copy()\n",
        "    df_temp['zscore'] = (df_temp[column] - df_temp[column].mean())/df_temp[column].std(ddof=0)\n",
        "    df_temp['Outlier'] = (df_temp['zscore'].abs()>3).astype(int)\n",
        "    # print(df.loc[df['Outlier']>0 , [column,'zscore']])\n",
        "    # print(df.loc[df['Outlier']==0 , [column,'zscore']])\n",
        "    df_temp = df_temp.loc[df_temp['Outlier']==0]\n",
        "    return df_temp"
      ],
      "metadata": {
        "id": "rkY-atiVsvUR"
      },
      "execution_count": 293,
      "outputs": []
    },
    {
      "cell_type": "code",
      "metadata": {
        "colab": {
          "base_uri": "https://localhost:8080/"
        },
        "id": "AfbpgQZDXegA",
        "outputId": "fcb63876-8d07-4723-e052-6029e7163913"
      },
      "source": [
        "df['Revenue_zscore'] = (df['Revenue'] - df['Revenue'].mean())/df['Revenue'].std(ddof=0)\n",
        "df['Outlier'] = (df['Revenue_zscore'].abs()>3).astype(int)\n",
        "print(df.loc[df['Outlier']>0 , ['Revenue','Revenue_zscore']])\n",
        "print(df.loc[df['Outlier']==0 , ['Revenue','Revenue_zscore']])\n",
        "df = df.loc[df['Outlier']==0]\n",
        "df.shape"
      ],
      "execution_count": 294,
      "outputs": [
        {
          "output_type": "stream",
          "name": "stdout",
          "text": [
            "            Revenue  Revenue_zscore\n",
            "1699     4844064.00            5.16\n",
            "4458     4023600.00            4.27\n",
            "4668     5788320.00            6.19\n",
            "5070    11329248.00           12.19\n",
            "6362     4023600.00            4.27\n",
            "...             ...             ...\n",
            "1402112  6006792.00            6.42\n",
            "1402113  4755136.00            5.07\n",
            "1402115  5851016.00            6.25\n",
            "1402120 17226552.00           18.59\n",
            "1403200  5950008.00            6.36\n",
            "\n",
            "[692 rows x 2 columns]\n",
            "          Revenue  Revenue_zscore\n",
            "0        10072.00           -0.08\n",
            "1         6712.00           -0.08\n",
            "2         6712.00           -0.08\n",
            "3       -12008.00           -0.10\n",
            "4         5376.00           -0.08\n",
            "...           ...             ...\n",
            "1404430  47136.00           -0.04\n",
            "1404431   2472.00           -0.09\n",
            "1404432   8752.00           -0.08\n",
            "1404433   2640.00           -0.09\n",
            "1404434   3528.00           -0.09\n",
            "\n",
            "[1403032 rows x 2 columns]\n"
          ]
        },
        {
          "output_type": "execute_result",
          "data": {
            "text/plain": [
              "(1403032, 13)"
            ]
          },
          "metadata": {},
          "execution_count": 294
        }
      ]
    },
    {
      "cell_type": "code",
      "metadata": {
        "colab": {
          "base_uri": "https://localhost:8080/"
        },
        "id": "jTHA1o9qaOLJ",
        "outputId": "aba58db7-8443-4ec2-8d60-d71f401ad524"
      },
      "source": [
        "df.Revenue.describe()"
      ],
      "execution_count": 295,
      "outputs": [
        {
          "output_type": "execute_result",
          "data": {
            "text/plain": [
              "count    1403032.00\n",
              "mean       77095.34\n",
              "std       237215.35\n",
              "min     -2370144.00\n",
              "25%         4672.00\n",
              "50%         8752.00\n",
              "75%        25672.00\n",
              "max      2844192.00\n",
              "Name: Revenue, dtype: float64"
            ]
          },
          "metadata": {},
          "execution_count": 295
        }
      ]
    },
    {
      "cell_type": "code",
      "metadata": {
        "colab": {
          "base_uri": "https://localhost:8080/",
          "height": 501
        },
        "id": "P-2wUBt4aOE1",
        "outputId": "b46a338a-01bf-4a35-9d84-b383724806d7"
      },
      "source": [
        "import seaborn as sns\n",
        "import matplotlib.pyplot as plt\n",
        "\n",
        "figure, axis = plt.subplots(1,2,figsize = (18,8))\n",
        "df['Revenue'].plot.box(ax = axis[0])\n",
        "axis[0].set_title('Revenue box')\n",
        "df['Revenue'].plot.hist(ax = axis[1])\n",
        "axis[1].set_title(\"Revenue hist\")\n",
        "plt.show()"
      ],
      "execution_count": 296,
      "outputs": [
        {
          "output_type": "display_data",
          "data": {
            "image/png": "[encoded data removed]",
            "text/plain": [
              "<Figure size 1296x576 with 2 Axes>"
            ]
          },
          "metadata": {
            "needs_background": "light"
          }
        }
      ]
    },
    {
      "cell_type": "markdown",
      "metadata": {
        "id": "2DV3wODugkF_"
      },
      "source": [
        "## IQR"
      ]
    },
    {
      "cell_type": "code",
      "metadata": {
        "id": "iaZFC13MgfP5"
      },
      "source": [
        "df2 = df1.copy()"
      ],
      "execution_count": 297,
      "outputs": []
    },
    {
      "cell_type": "code",
      "metadata": {
        "colab": {
          "base_uri": "https://localhost:8080/",
          "height": 293
        },
        "id": "C5EjPMcDgp_G",
        "outputId": "024faf13-30f2-40bf-b695-5194da7ac783"
      },
      "source": [
        "df2['Revenue'].plot.box()"
      ],
      "execution_count": 298,
      "outputs": [
        {
          "output_type": "execute_result",
          "data": {
            "text/plain": [
              "<matplotlib.axes._subplots.AxesSubplot at 0x7f461c023250>"
            ]
          },
          "metadata": {},
          "execution_count": 298
        },
        {
          "output_type": "display_data",
          "data": {
            "image/png": "[encoded data removed]",
            "text/plain": [
              "<Figure size 432x288 with 1 Axes>"
            ]
          },
          "metadata": {
            "needs_background": "light"
          }
        }
      ]
    },
    {
      "cell_type": "code",
      "metadata": {
        "id": "evmLg1M0gp5w"
      },
      "source": [
        "def Outlier_treatmeant(datacolumn):\n",
        "  Q1,Q3 = np.percentile(datacolumn,[25,75])\n",
        "  IQR = Q3-Q1\n",
        "  lower_range = Q1 - (1.5*IQR)\n",
        "  high_range = Q3 + (1.5*IQR)\n",
        "  return lower_range, high_range\n",
        "\n",
        "lowerbound, higherbound = Outlier_treatmeant(df2['Revenue'])\n",
        "df2.loc[(df2['Revenue']>higherbound) | (df2['Revenue'] < lowerbound)]\n",
        "df2 = df2.loc[(df2['Revenue']<higherbound) & (df2['Revenue'] > lowerbound)]"
      ],
      "execution_count": 299,
      "outputs": []
    },
    {
      "cell_type": "code",
      "source": [
        "def Outlier(column,df,method='zscore'):\n",
        "    if method == 'zscore':\n",
        "       return Z_score(column,df) \n",
        "    else:\n",
        "        df_temp = df.copy()\n",
        "        lowerbound, higherbound = Outlier_treatmeant(df_temp[column])\n",
        "        df_temp.loc[(df_temp['Revenue']>higherbound) | (df_temp['Revenue'] < lowerbound)]\n",
        "        df_temp = df_temp.loc[(df_temp['Revenue']<higherbound) & (df_temp['Revenue'] > lowerbound)]\n",
        "        return df_temp"
      ],
      "metadata": {
        "id": "d0SKE3OTv_WX"
      },
      "execution_count": 300,
      "outputs": []
    },
    {
      "cell_type": "code",
      "metadata": {
        "colab": {
          "base_uri": "https://localhost:8080/",
          "height": 474
        },
        "id": "CtjNGC4tj5I1",
        "outputId": "51b43b3f-c847-44b6-fbbd-5101d3661877"
      },
      "source": [
        "import seaborn as sns\n",
        "import matplotlib.pyplot as plt\n",
        "\n",
        "figure, axis = plt.subplots(1,2,figsize = (18,8))\n",
        "df2['Revenue'].plot.box(ax = axis[0])\n",
        "axis[0].set_title('Revenue box')\n",
        "df2['Revenue'].plot.hist(ax = axis[1])\n",
        "axis[1].set_title(\"Revenue hist\")\n",
        "plt.show()"
      ],
      "execution_count": 301,
      "outputs": [
        {
          "output_type": "display_data",
          "data": {
            "image/png": "[encoded data removed]",
            "text/plain": [
              "<Figure size 1296x576 with 2 Axes>"
            ]
          },
          "metadata": {
            "needs_background": "light"
          }
        }
      ]
    },
    {
      "cell_type": "code",
      "metadata": {
        "colab": {
          "base_uri": "https://localhost:8080/"
        },
        "id": "nCzJ-r9pq8LF",
        "outputId": "d1f7a57a-624e-4228-b769-e822fe7d85ac"
      },
      "source": [
        "print(df.Revenue.describe())\n",
        "print(df2.Revenue.describe())"
      ],
      "execution_count": 302,
      "outputs": [
        {
          "output_type": "stream",
          "name": "stdout",
          "text": [
            "count    1403032.00\n",
            "mean       77095.34\n",
            "std       237215.35\n",
            "min     -2370144.00\n",
            "25%         4672.00\n",
            "50%         8752.00\n",
            "75%        25672.00\n",
            "max      2844192.00\n",
            "Name: Revenue, dtype: float64\n",
            "count   1181196.00\n",
            "mean      11039.57\n",
            "std       11547.11\n",
            "min      -26976.00\n",
            "25%        4216.00\n",
            "50%        7672.00\n",
            "75%       13408.00\n",
            "max       57744.00\n",
            "Name: Revenue, dtype: float64\n"
          ]
        }
      ]
    },
    {
      "cell_type": "code",
      "source": [
        "df2.to_csv('/content/drive/MyDrive/T大使/df_IQR.csv')"
      ],
      "metadata": {
        "id": "Q8mSnS9QYWqC"
      },
      "execution_count": 303,
      "outputs": []
    },
    {
      "cell_type": "markdown",
      "metadata": {
        "id": "sv04AmTtsgoD"
      },
      "source": [
        "# EDA"
      ]
    },
    {
      "cell_type": "code",
      "metadata": {
        "id": "t3w5jB5istZj"
      },
      "source": [
        "df_IQR = df2.copy()"
      ],
      "execution_count": 304,
      "outputs": []
    },
    {
      "cell_type": "markdown",
      "metadata": {
        "id": "R2EARBc1soJM"
      },
      "source": [
        "## Monthly revenue"
      ]
    },
    {
      "cell_type": "code",
      "metadata": {
        "colab": {
          "base_uri": "https://localhost:8080/"
        },
        "id": "DSu_LFqesmZc",
        "outputId": "16ef5d26-39f8-418a-8416-f883769a61a9"
      },
      "source": [
        "df_IQR.info()"
      ],
      "execution_count": 305,
      "outputs": [
        {
          "output_type": "stream",
          "name": "stdout",
          "text": [
            "<class 'pandas.core.frame.DataFrame'>\n",
            "Int64Index: 1181196 entries, 0 to 1404434\n",
            "Data columns (total 11 columns):\n",
            " #   Column             Non-Null Count    Dtype  \n",
            "---  ------             --------------    -----  \n",
            " 0   InvoiceNo          1181196 non-null  object \n",
            " 1   StockCode          1181196 non-null  object \n",
            " 2   Description        1181196 non-null  object \n",
            " 3   Quantity           1181196 non-null  float64\n",
            " 4   InvoiceDate        1181196 non-null  object \n",
            " 5   UnitPrice          1181196 non-null  float64\n",
            " 6   CustomerID         1181196 non-null  float64\n",
            " 7   Country            1181196 non-null  object \n",
            " 8   member_start_date  1144520 non-null  object \n",
            " 9   first_trans_date   1177960 non-null  object \n",
            " 10  Revenue            1181196 non-null  float64\n",
            "dtypes: float64(4), object(7)\n",
            "memory usage: 108.1+ MB\n"
          ]
        }
      ]
    },
    {
      "cell_type": "code",
      "metadata": {
        "colab": {
          "base_uri": "https://localhost:8080/"
        },
        "id": "vVhUq8TysmWJ",
        "outputId": "f02aa909-c189-419b-fad3-ecadfda43db7"
      },
      "source": [
        "df_IQR['InvoiceDate'] = pd.to_datetime(df_IQR['InvoiceDate'])\n",
        "df_IQR.info() "
      ],
      "execution_count": 306,
      "outputs": [
        {
          "output_type": "stream",
          "name": "stdout",
          "text": [
            "<class 'pandas.core.frame.DataFrame'>\n",
            "Int64Index: 1181196 entries, 0 to 1404434\n",
            "Data columns (total 11 columns):\n",
            " #   Column             Non-Null Count    Dtype         \n",
            "---  ------             --------------    -----         \n",
            " 0   InvoiceNo          1181196 non-null  object        \n",
            " 1   StockCode          1181196 non-null  object        \n",
            " 2   Description        1181196 non-null  object        \n",
            " 3   Quantity           1181196 non-null  float64       \n",
            " 4   InvoiceDate        1181196 non-null  datetime64[ns]\n",
            " 5   UnitPrice          1181196 non-null  float64       \n",
            " 6   CustomerID         1181196 non-null  float64       \n",
            " 7   Country            1181196 non-null  object        \n",
            " 8   member_start_date  1144520 non-null  object        \n",
            " 9   first_trans_date   1177960 non-null  object        \n",
            " 10  Revenue            1181196 non-null  float64       \n",
            "dtypes: datetime64[ns](1), float64(4), object(6)\n",
            "memory usage: 108.1+ MB\n"
          ]
        }
      ]
    },
    {
      "cell_type": "code",
      "metadata": {
        "id": "j-i-5FQFs3n5"
      },
      "source": [
        "df_IQR['YearMonth'] = df_IQR['InvoiceDate'].map(lambda date: 100*date.year+date.month)"
      ],
      "execution_count": 307,
      "outputs": []
    },
    {
      "cell_type": "code",
      "metadata": {
        "colab": {
          "base_uri": "https://localhost:8080/"
        },
        "id": "Dk89OPZCwHhT",
        "outputId": "8ec578c0-1cff-4688-b9c9-c494d1349082"
      },
      "source": [
        "df_IQR.InvoiceDate.dt.year"
      ],
      "execution_count": 308,
      "outputs": [
        {
          "output_type": "execute_result",
          "data": {
            "text/plain": [
              "0          2019\n",
              "1          2019\n",
              "2          2019\n",
              "3          2019\n",
              "4          2019\n",
              "           ... \n",
              "1404430    2020\n",
              "1404431    2020\n",
              "1404432    2020\n",
              "1404433    2020\n",
              "1404434    2020\n",
              "Name: InvoiceDate, Length: 1181196, dtype: int64"
            ]
          },
          "metadata": {},
          "execution_count": 308
        }
      ]
    },
    {
      "cell_type": "code",
      "metadata": {
        "id": "GFZy5brdvaGm"
      },
      "source": [
        "tx_revenue = df_IQR.groupby('YearMonth')['Revenue'].sum().reset_index()"
      ],
      "execution_count": 309,
      "outputs": []
    },
    {
      "cell_type": "code",
      "metadata": {
        "colab": {
          "base_uri": "https://localhost:8080/"
        },
        "id": "61Bb7u68vaDN",
        "outputId": "a7691df3-0228-42d7-da1c-b45d8d9be762"
      },
      "source": [
        "tx_revenue.info()"
      ],
      "execution_count": 310,
      "outputs": [
        {
          "output_type": "stream",
          "name": "stdout",
          "text": [
            "<class 'pandas.core.frame.DataFrame'>\n",
            "RangeIndex: 24 entries, 0 to 23\n",
            "Data columns (total 2 columns):\n",
            " #   Column     Non-Null Count  Dtype  \n",
            "---  ------     --------------  -----  \n",
            " 0   YearMonth  24 non-null     int64  \n",
            " 1   Revenue    24 non-null     float64\n",
            "dtypes: float64(1), int64(1)\n",
            "memory usage: 512.0 bytes\n"
          ]
        }
      ]
    },
    {
      "cell_type": "code",
      "metadata": {
        "id": "ZH_Ow4WsvZ4F"
      },
      "source": [
        "tx_revenue['YearMonth'] = tx_revenue['YearMonth'].astype(str)"
      ],
      "execution_count": 311,
      "outputs": []
    },
    {
      "cell_type": "code",
      "metadata": {
        "colab": {
          "base_uri": "https://localhost:8080/",
          "height": 296
        },
        "id": "3OCQw2Lb2Ml6",
        "outputId": "a8ab6957-5038-4440-c452-ad94b20ade86"
      },
      "source": [
        "figure,axis = plt.subplots(figsize=(24,6))\n",
        "sns.lineplot(ax=axis, x='YearMonth', y='Revenue',data=tx_revenue)\n",
        "axis.grid()\n",
        "plt.show()"
      ],
      "execution_count": 312,
      "outputs": [
        {
          "output_type": "display_data",
          "data": {
            "image/png": "[encoded data removed]",
            "text/plain": [
              "<Figure size 1728x432 with 1 Axes>"
            ]
          },
          "metadata": {
            "needs_background": "light"
          }
        }
      ]
    },
    {
      "cell_type": "code",
      "metadata": {
        "colab": {
          "base_uri": "https://localhost:8080/",
          "height": 288
        },
        "id": "bsnw6cgfyQSB",
        "outputId": "023ec08c-7251-41b1-9ba8-c2154e01dea7"
      },
      "source": [
        "figure,axis = plt.subplots(figsize=(24,6))\n",
        "axis.plot(tx_revenue['YearMonth'], tx_revenue['Revenue'])\n",
        "axis.grid()\n",
        "plt.show()"
      ],
      "execution_count": 313,
      "outputs": [
        {
          "output_type": "display_data",
          "data": {
            "image/png": "[encoded data removed]",
            "text/plain": [
              "<Figure size 1728x432 with 1 Axes>"
            ]
          },
          "metadata": {
            "needs_background": "light"
          }
        }
      ]
    },
    {
      "cell_type": "markdown",
      "metadata": {
        "id": "jDZzXVts3-zJ"
      },
      "source": [
        "## Monthly growth rate"
      ]
    },
    {
      "cell_type": "code",
      "metadata": {
        "colab": {
          "base_uri": "https://localhost:8080/",
          "height": 793
        },
        "id": "fwuDifr1yQM7",
        "outputId": "49f08f3a-819f-481e-d0d3-07919a65c947"
      },
      "source": [
        "tx_revenue['GrowthRate'] = tx_revenue['Revenue'].pct_change()\n",
        "tx_revenue"
      ],
      "execution_count": 314,
      "outputs": [
        {
          "output_type": "execute_result",
          "data": {
            "text/html": [
              "<div>\n",
              "<style scoped>\n",
              "    .dataframe tbody tr th:only-of-type {\n",
              "        vertical-align: middle;\n",
              "    }\n",
              "\n",
              "    .dataframe tbody tr th {\n",
              "        vertical-align: top;\n",
              "    }\n",
              "\n",
              "    .dataframe thead th {\n",
              "        text-align: right;\n",
              "    }\n",
              "</style>\n",
              "<table border=\"1\" class=\"dataframe\">\n",
              "  <thead>\n",
              "    <tr style=\"text-align: right;\">\n",
              "      <th></th>\n",
              "      <th>YearMonth</th>\n",
              "      <th>Revenue</th>\n",
              "      <th>GrowthRate</th>\n",
              "    </tr>\n",
              "  </thead>\n",
              "  <tbody>\n",
              "    <tr>\n",
              "      <th>0</th>\n",
              "      <td>201901</td>\n",
              "      <td>425743824.00</td>\n",
              "      <td>nan</td>\n",
              "    </tr>\n",
              "    <tr>\n",
              "      <th>1</th>\n",
              "      <td>201902</td>\n",
              "      <td>300617976.00</td>\n",
              "      <td>-0.29</td>\n",
              "    </tr>\n",
              "    <tr>\n",
              "      <th>2</th>\n",
              "      <td>201903</td>\n",
              "      <td>699778888.00</td>\n",
              "      <td>1.33</td>\n",
              "    </tr>\n",
              "    <tr>\n",
              "      <th>3</th>\n",
              "      <td>201904</td>\n",
              "      <td>516812544.00</td>\n",
              "      <td>-0.26</td>\n",
              "    </tr>\n",
              "    <tr>\n",
              "      <th>4</th>\n",
              "      <td>201905</td>\n",
              "      <td>551044368.00</td>\n",
              "      <td>0.07</td>\n",
              "    </tr>\n",
              "    <tr>\n",
              "      <th>5</th>\n",
              "      <td>201906</td>\n",
              "      <td>453681976.00</td>\n",
              "      <td>-0.18</td>\n",
              "    </tr>\n",
              "    <tr>\n",
              "      <th>6</th>\n",
              "      <td>201907</td>\n",
              "      <td>480213760.00</td>\n",
              "      <td>0.06</td>\n",
              "    </tr>\n",
              "    <tr>\n",
              "      <th>7</th>\n",
              "      <td>201908</td>\n",
              "      <td>500785128.00</td>\n",
              "      <td>0.04</td>\n",
              "    </tr>\n",
              "    <tr>\n",
              "      <th>8</th>\n",
              "      <td>201909</td>\n",
              "      <td>553368896.00</td>\n",
              "      <td>0.11</td>\n",
              "    </tr>\n",
              "    <tr>\n",
              "      <th>9</th>\n",
              "      <td>201910</td>\n",
              "      <td>643763416.00</td>\n",
              "      <td>0.16</td>\n",
              "    </tr>\n",
              "    <tr>\n",
              "      <th>10</th>\n",
              "      <td>201911</td>\n",
              "      <td>602731880.00</td>\n",
              "      <td>-0.06</td>\n",
              "    </tr>\n",
              "    <tr>\n",
              "      <th>11</th>\n",
              "      <td>201912</td>\n",
              "      <td>650472000.00</td>\n",
              "      <td>0.08</td>\n",
              "    </tr>\n",
              "    <tr>\n",
              "      <th>12</th>\n",
              "      <td>202001</td>\n",
              "      <td>506539352.00</td>\n",
              "      <td>-0.22</td>\n",
              "    </tr>\n",
              "    <tr>\n",
              "      <th>13</th>\n",
              "      <td>202002</td>\n",
              "      <td>510690080.00</td>\n",
              "      <td>0.01</td>\n",
              "    </tr>\n",
              "    <tr>\n",
              "      <th>14</th>\n",
              "      <td>202003</td>\n",
              "      <td>591391280.00</td>\n",
              "      <td>0.16</td>\n",
              "    </tr>\n",
              "    <tr>\n",
              "      <th>15</th>\n",
              "      <td>202004</td>\n",
              "      <td>567085392.00</td>\n",
              "      <td>-0.04</td>\n",
              "    </tr>\n",
              "    <tr>\n",
              "      <th>16</th>\n",
              "      <td>202005</td>\n",
              "      <td>645260568.00</td>\n",
              "      <td>0.14</td>\n",
              "    </tr>\n",
              "    <tr>\n",
              "      <th>17</th>\n",
              "      <td>202006</td>\n",
              "      <td>625529096.00</td>\n",
              "      <td>-0.03</td>\n",
              "    </tr>\n",
              "    <tr>\n",
              "      <th>18</th>\n",
              "      <td>202007</td>\n",
              "      <td>489143240.00</td>\n",
              "      <td>-0.22</td>\n",
              "    </tr>\n",
              "    <tr>\n",
              "      <th>19</th>\n",
              "      <td>202008</td>\n",
              "      <td>549924200.00</td>\n",
              "      <td>0.12</td>\n",
              "    </tr>\n",
              "    <tr>\n",
              "      <th>20</th>\n",
              "      <td>202009</td>\n",
              "      <td>491556200.00</td>\n",
              "      <td>-0.11</td>\n",
              "    </tr>\n",
              "    <tr>\n",
              "      <th>21</th>\n",
              "      <td>202010</td>\n",
              "      <td>513489528.00</td>\n",
              "      <td>0.04</td>\n",
              "    </tr>\n",
              "    <tr>\n",
              "      <th>22</th>\n",
              "      <td>202011</td>\n",
              "      <td>586158760.00</td>\n",
              "      <td>0.14</td>\n",
              "    </tr>\n",
              "    <tr>\n",
              "      <th>23</th>\n",
              "      <td>202012</td>\n",
              "      <td>584113720.00</td>\n",
              "      <td>-0.00</td>\n",
              "    </tr>\n",
              "  </tbody>\n",
              "</table>\n",
              "</div>"
            ],
            "text/plain": [
              "   YearMonth      Revenue  GrowthRate\n",
              "0     201901 425743824.00         nan\n",
              "1     201902 300617976.00       -0.29\n",
              "2     201903 699778888.00        1.33\n",
              "3     201904 516812544.00       -0.26\n",
              "4     201905 551044368.00        0.07\n",
              "5     201906 453681976.00       -0.18\n",
              "6     201907 480213760.00        0.06\n",
              "7     201908 500785128.00        0.04\n",
              "8     201909 553368896.00        0.11\n",
              "9     201910 643763416.00        0.16\n",
              "10    201911 602731880.00       -0.06\n",
              "11    201912 650472000.00        0.08\n",
              "12    202001 506539352.00       -0.22\n",
              "13    202002 510690080.00        0.01\n",
              "14    202003 591391280.00        0.16\n",
              "15    202004 567085392.00       -0.04\n",
              "16    202005 645260568.00        0.14\n",
              "17    202006 625529096.00       -0.03\n",
              "18    202007 489143240.00       -0.22\n",
              "19    202008 549924200.00        0.12\n",
              "20    202009 491556200.00       -0.11\n",
              "21    202010 513489528.00        0.04\n",
              "22    202011 586158760.00        0.14\n",
              "23    202012 584113720.00       -0.00"
            ]
          },
          "metadata": {},
          "execution_count": 314
        }
      ]
    },
    {
      "cell_type": "code",
      "metadata": {
        "colab": {
          "base_uri": "https://localhost:8080/",
          "height": 288
        },
        "id": "ep0EksIM4T6t",
        "outputId": "f7b7c3c9-219a-4061-b7f6-93472f484140"
      },
      "source": [
        "figure,axis = plt.subplots(figsize=(24,6))\n",
        "sns.lineplot(ax=axis, x='YearMonth', y='GrowthRate',data=tx_revenue)\n",
        "axis.grid()\n",
        "plt.show()"
      ],
      "execution_count": 315,
      "outputs": [
        {
          "output_type": "display_data",
          "data": {
            "image/png": "[encoded data removed]",
            "text/plain": [
              "<Figure size 1728x432 with 1 Axes>"
            ]
          },
          "metadata": {
            "needs_background": "light"
          }
        }
      ]
    },
    {
      "cell_type": "markdown",
      "metadata": {
        "id": "qioaLbzVy22S"
      },
      "source": [
        "## Monthly Order Count"
      ]
    },
    {
      "cell_type": "code",
      "metadata": {
        "colab": {
          "base_uri": "https://localhost:8080/"
        },
        "id": "LQx21FQDy2dr",
        "outputId": "55db8431-c4e0-4e24-b1a4-cda251a78ddd"
      },
      "source": [
        "df_IQR.info()"
      ],
      "execution_count": 316,
      "outputs": [
        {
          "output_type": "stream",
          "name": "stdout",
          "text": [
            "<class 'pandas.core.frame.DataFrame'>\n",
            "Int64Index: 1181196 entries, 0 to 1404434\n",
            "Data columns (total 12 columns):\n",
            " #   Column             Non-Null Count    Dtype         \n",
            "---  ------             --------------    -----         \n",
            " 0   InvoiceNo          1181196 non-null  object        \n",
            " 1   StockCode          1181196 non-null  object        \n",
            " 2   Description        1181196 non-null  object        \n",
            " 3   Quantity           1181196 non-null  float64       \n",
            " 4   InvoiceDate        1181196 non-null  datetime64[ns]\n",
            " 5   UnitPrice          1181196 non-null  float64       \n",
            " 6   CustomerID         1181196 non-null  float64       \n",
            " 7   Country            1181196 non-null  object        \n",
            " 8   member_start_date  1144520 non-null  object        \n",
            " 9   first_trans_date   1177960 non-null  object        \n",
            " 10  Revenue            1181196 non-null  float64       \n",
            " 11  YearMonth          1181196 non-null  int64         \n",
            "dtypes: datetime64[ns](1), float64(4), int64(1), object(6)\n",
            "memory usage: 117.2+ MB\n"
          ]
        }
      ]
    },
    {
      "cell_type": "code",
      "metadata": {
        "id": "bujFAh2ty-oA"
      },
      "source": [
        "tx_order = df_IQR.groupby('YearMonth')['Quantity'].sum().reset_index()\n",
        "tx_order['YearMonth'] = tx_order['YearMonth'].astype(str)"
      ],
      "execution_count": 317,
      "outputs": []
    },
    {
      "cell_type": "code",
      "metadata": {
        "colab": {
          "base_uri": "https://localhost:8080/",
          "height": 276
        },
        "id": "nw4XvSGn04ef",
        "outputId": "001a0825-c7fa-4122-eaef-b50d4571f370"
      },
      "source": [
        "figure,axis = plt.subplots(figsize=(24,6))\n",
        "axis.bar(tx_order['YearMonth'], tx_order['Quantity'])\n",
        "axis.grid()\n",
        "plt.show()"
      ],
      "execution_count": 318,
      "outputs": [
        {
          "output_type": "display_data",
          "data": {
            "image/png": "[encoded data removed]",
            "text/plain": [
              "<Figure size 1728x432 with 1 Axes>"
            ]
          },
          "metadata": {
            "needs_background": "light"
          }
        }
      ]
    },
    {
      "cell_type": "markdown",
      "metadata": {
        "id": "SvE7yVyV1p0R"
      },
      "source": [
        "## Average Revenue per Order​"
      ]
    },
    {
      "cell_type": "code",
      "metadata": {
        "id": "0Hi9qWxu1t1M"
      },
      "source": [
        "avg_revernue = df_IQR.groupby('YearMonth')['Revenue'].mean().reset_index()\n",
        "avg_revernue['YearMonth'] = avg_revernue['YearMonth'].astype(str)"
      ],
      "execution_count": 319,
      "outputs": []
    },
    {
      "cell_type": "code",
      "metadata": {
        "colab": {
          "base_uri": "https://localhost:8080/",
          "height": 286
        },
        "id": "-ZDumjNu1tqQ",
        "outputId": "2b3a66f6-22c4-4632-eefe-b767446d7d25"
      },
      "source": [
        "figure,axis = plt.subplots(2,1,figsize=(24,6))\n",
        "sns.lineplot(ax=axis[0], x='YearMonth', y='Revenue',data=avg_revernue)\n",
        "sns.barplot(ax=axis[1], x='YearMonth', y='Revenue',data=avg_revernue)\n",
        "axis[1].set(ylim=(9000, 15000))\n",
        "plt.show()"
      ],
      "execution_count": 320,
      "outputs": [
        {
          "output_type": "display_data",
          "data": {
            "image/png": "[encoded data removed]",
            "text/plain": [
              "<Figure size 1728x432 with 2 Axes>"
            ]
          },
          "metadata": {
            "needs_background": "light"
          }
        }
      ]
    },
    {
      "cell_type": "markdown",
      "metadata": {
        "id": "Z7XJfHRY4rV8"
      },
      "source": [
        "## Monthly Active Customers​"
      ]
    },
    {
      "cell_type": "code",
      "metadata": {
        "id": "u08a4uyl4s1i"
      },
      "source": [
        "act_custom = df_IQR.groupby('YearMonth')['CustomerID'].nunique().reset_index()"
      ],
      "execution_count": 321,
      "outputs": []
    },
    {
      "cell_type": "code",
      "metadata": {
        "colab": {
          "base_uri": "https://localhost:8080/",
          "height": 285
        },
        "id": "qNu53_ne5hfX",
        "outputId": "f692d54e-b7a0-45ec-d542-0ed820598358"
      },
      "source": [
        "figure,axis = plt.subplots(figsize=(24,6))\n",
        "sns.barplot(ax=axis, x='YearMonth', y='CustomerID',data=act_custom)\n",
        "axis.grid()\n",
        "plt.show()"
      ],
      "execution_count": 322,
      "outputs": [
        {
          "output_type": "display_data",
          "data": {
            "image/png": "[encoded data removed]",
            "text/plain": [
              "<Figure size 1728x432 with 1 Axes>"
            ]
          },
          "metadata": {
            "needs_background": "light"
          }
        }
      ]
    },
    {
      "cell_type": "code",
      "metadata": {
        "id": "5CyMJzN4GawB"
      },
      "source": [
        "act_custom['YearMonth'] = act_custom['YearMonth'].astype(str)"
      ],
      "execution_count": 323,
      "outputs": []
    },
    {
      "cell_type": "code",
      "metadata": {
        "colab": {
          "base_uri": "https://localhost:8080/",
          "height": 275
        },
        "id": "GQJmbshaGn-j",
        "outputId": "9e862873-ee9d-4769-cd0b-ca6a3004a41f"
      },
      "source": [
        "figure,axis = plt.subplots(figsize=(24,6))\n",
        "sns.barplot(ax=axis, x='YearMonth', y='CustomerID',data=act_custom)\n",
        "axis2 = axis.twinx()\n",
        "sns.lineplot(ax=axis2, x='YearMonth', y='CustomerID',data=act_custom)\n",
        "axis.grid()\n",
        "plt.show()"
      ],
      "execution_count": 324,
      "outputs": [
        {
          "output_type": "display_data",
          "data": {
            "image/png": "[encoded data removed]",
            "text/plain": [
              "<Figure size 1728x432 with 2 Axes>"
            ]
          },
          "metadata": {
            "needs_background": "light"
          }
        }
      ]
    },
    {
      "cell_type": "markdown",
      "metadata": {
        "id": "hm88sSdy6hO3"
      },
      "source": [
        "## Revenue per month for New and Existing Customers​"
      ]
    },
    {
      "cell_type": "code",
      "metadata": {
        "id": "U5n78xoT7yxv"
      },
      "source": [
        "df_IQR['member_start_date'] = pd.to_datetime(df_IQR['member_start_date'])\n",
        "df_IQR['member_YearMonth'] = df_IQR['member_start_date'].map(lambda date: 100*date.year+date.month)"
      ],
      "execution_count": 325,
      "outputs": []
    },
    {
      "cell_type": "code",
      "metadata": {
        "colab": {
          "base_uri": "https://localhost:8080/"
        },
        "id": "zr1krY5g6mQC",
        "outputId": "25ceb797-d576-43cc-e436-a5573a10ca70"
      },
      "source": [
        "new_custom = df_IQR.loc[df_IQR['YearMonth'] == df_IQR['member_YearMonth']]\n",
        "exist_custom = df_IQR.loc[~(df_IQR['YearMonth'] == df_IQR['member_YearMonth'])]\n",
        "new_custom['YearMonth'] = new_custom['YearMonth'].astype(str)\n",
        "exist_custom['YearMonth'] = exist_custom['YearMonth'].astype(str)"
      ],
      "execution_count": 326,
      "outputs": [
        {
          "output_type": "stream",
          "name": "stderr",
          "text": [
            "/usr/local/lib/python3.7/dist-packages/ipykernel_launcher.py:3: SettingWithCopyWarning: \n",
            "A value is trying to be set on a copy of a slice from a DataFrame.\n",
            "Try using .loc[row_indexer,col_indexer] = value instead\n",
            "\n",
            "See the caveats in the documentation: https://pandas.pydata.org/pandas-docs/stable/user_guide/indexing.html#returning-a-view-versus-a-copy\n",
            "  This is separate from the ipykernel package so we can avoid doing imports until\n",
            "/usr/local/lib/python3.7/dist-packages/ipykernel_launcher.py:4: SettingWithCopyWarning: \n",
            "A value is trying to be set on a copy of a slice from a DataFrame.\n",
            "Try using .loc[row_indexer,col_indexer] = value instead\n",
            "\n",
            "See the caveats in the documentation: https://pandas.pydata.org/pandas-docs/stable/user_guide/indexing.html#returning-a-view-versus-a-copy\n",
            "  after removing the cwd from sys.path.\n"
          ]
        }
      ]
    },
    {
      "cell_type": "code",
      "metadata": {
        "colab": {
          "base_uri": "https://localhost:8080/",
          "height": 298
        },
        "id": "XWqHcjrs6yp7",
        "outputId": "f0ff47be-217b-4e32-f8c0-85759f2d64f9"
      },
      "source": [
        "figure,axis = plt.subplots(figsize=(24,6))\n",
        "sns.lineplot(ax=axis, x='YearMonth', y='Revenue',data=new_custom.groupby('YearMonth')['Revenue'].sum().reset_index())\n",
        "sns.lineplot(ax=axis, x='YearMonth', y='Revenue',data=exist_custom.groupby('YearMonth')['Revenue'].sum().reset_index())\n",
        "axis.grid()\n",
        "plt.show()"
      ],
      "execution_count": 327,
      "outputs": [
        {
          "output_type": "display_data",
          "data": {
            "image/png": "[encoded data removed]",
            "text/plain": [
              "<Figure size 1728x432 with 1 Axes>"
            ]
          },
          "metadata": {
            "needs_background": "light"
          }
        }
      ]
    },
    {
      "cell_type": "markdown",
      "metadata": {
        "id": "jf4fIoiN_nhf"
      },
      "source": [
        "## New Customer Ratio​"
      ]
    },
    {
      "cell_type": "code",
      "metadata": {
        "colab": {
          "base_uri": "https://localhost:8080/",
          "height": 813
        },
        "id": "glVlROQP_qiY",
        "outputId": "f0de26cd-3f72-4d78-969f-1b8d39c61747"
      },
      "source": [
        "df_IQR['new_or_not'] = df_IQR.apply(lambda row: 1 if row['YearMonth']==row['member_YearMonth'] else 0 ,axis=1)\n",
        "custom_ratio = df_IQR.groupby('YearMonth')['new_or_not'].mean().reset_index()\n",
        "custom_ratio"
      ],
      "execution_count": 328,
      "outputs": [
        {
          "output_type": "execute_result",
          "data": {
            "text/html": [
              "<div>\n",
              "<style scoped>\n",
              "    .dataframe tbody tr th:only-of-type {\n",
              "        vertical-align: middle;\n",
              "    }\n",
              "\n",
              "    .dataframe tbody tr th {\n",
              "        vertical-align: top;\n",
              "    }\n",
              "\n",
              "    .dataframe thead th {\n",
              "        text-align: right;\n",
              "    }\n",
              "</style>\n",
              "<table border=\"1\" class=\"dataframe\">\n",
              "  <thead>\n",
              "    <tr style=\"text-align: right;\">\n",
              "      <th></th>\n",
              "      <th>YearMonth</th>\n",
              "      <th>new_or_not</th>\n",
              "    </tr>\n",
              "  </thead>\n",
              "  <tbody>\n",
              "    <tr>\n",
              "      <th>0</th>\n",
              "      <td>201901</td>\n",
              "      <td>0.04</td>\n",
              "    </tr>\n",
              "    <tr>\n",
              "      <th>1</th>\n",
              "      <td>201902</td>\n",
              "      <td>0.05</td>\n",
              "    </tr>\n",
              "    <tr>\n",
              "      <th>2</th>\n",
              "      <td>201903</td>\n",
              "      <td>0.03</td>\n",
              "    </tr>\n",
              "    <tr>\n",
              "      <th>3</th>\n",
              "      <td>201904</td>\n",
              "      <td>0.03</td>\n",
              "    </tr>\n",
              "    <tr>\n",
              "      <th>4</th>\n",
              "      <td>201905</td>\n",
              "      <td>0.04</td>\n",
              "    </tr>\n",
              "    <tr>\n",
              "      <th>5</th>\n",
              "      <td>201906</td>\n",
              "      <td>0.05</td>\n",
              "    </tr>\n",
              "    <tr>\n",
              "      <th>6</th>\n",
              "      <td>201907</td>\n",
              "      <td>0.06</td>\n",
              "    </tr>\n",
              "    <tr>\n",
              "      <th>7</th>\n",
              "      <td>201908</td>\n",
              "      <td>0.05</td>\n",
              "    </tr>\n",
              "    <tr>\n",
              "      <th>8</th>\n",
              "      <td>201909</td>\n",
              "      <td>0.04</td>\n",
              "    </tr>\n",
              "    <tr>\n",
              "      <th>9</th>\n",
              "      <td>201910</td>\n",
              "      <td>0.04</td>\n",
              "    </tr>\n",
              "    <tr>\n",
              "      <th>10</th>\n",
              "      <td>201911</td>\n",
              "      <td>0.03</td>\n",
              "    </tr>\n",
              "    <tr>\n",
              "      <th>11</th>\n",
              "      <td>201912</td>\n",
              "      <td>0.01</td>\n",
              "    </tr>\n",
              "    <tr>\n",
              "      <th>12</th>\n",
              "      <td>202001</td>\n",
              "      <td>0.04</td>\n",
              "    </tr>\n",
              "    <tr>\n",
              "      <th>13</th>\n",
              "      <td>202002</td>\n",
              "      <td>0.03</td>\n",
              "    </tr>\n",
              "    <tr>\n",
              "      <th>14</th>\n",
              "      <td>202003</td>\n",
              "      <td>0.04</td>\n",
              "    </tr>\n",
              "    <tr>\n",
              "      <th>15</th>\n",
              "      <td>202004</td>\n",
              "      <td>0.04</td>\n",
              "    </tr>\n",
              "    <tr>\n",
              "      <th>16</th>\n",
              "      <td>202005</td>\n",
              "      <td>0.04</td>\n",
              "    </tr>\n",
              "    <tr>\n",
              "      <th>17</th>\n",
              "      <td>202006</td>\n",
              "      <td>0.04</td>\n",
              "    </tr>\n",
              "    <tr>\n",
              "      <th>18</th>\n",
              "      <td>202007</td>\n",
              "      <td>0.05</td>\n",
              "    </tr>\n",
              "    <tr>\n",
              "      <th>19</th>\n",
              "      <td>202008</td>\n",
              "      <td>0.04</td>\n",
              "    </tr>\n",
              "    <tr>\n",
              "      <th>20</th>\n",
              "      <td>202009</td>\n",
              "      <td>0.05</td>\n",
              "    </tr>\n",
              "    <tr>\n",
              "      <th>21</th>\n",
              "      <td>202010</td>\n",
              "      <td>0.05</td>\n",
              "    </tr>\n",
              "    <tr>\n",
              "      <th>22</th>\n",
              "      <td>202011</td>\n",
              "      <td>0.05</td>\n",
              "    </tr>\n",
              "    <tr>\n",
              "      <th>23</th>\n",
              "      <td>202012</td>\n",
              "      <td>0.05</td>\n",
              "    </tr>\n",
              "  </tbody>\n",
              "</table>\n",
              "</div>"
            ],
            "text/plain": [
              "    YearMonth  new_or_not\n",
              "0      201901        0.04\n",
              "1      201902        0.05\n",
              "2      201903        0.03\n",
              "3      201904        0.03\n",
              "4      201905        0.04\n",
              "5      201906        0.05\n",
              "6      201907        0.06\n",
              "7      201908        0.05\n",
              "8      201909        0.04\n",
              "9      201910        0.04\n",
              "10     201911        0.03\n",
              "11     201912        0.01\n",
              "12     202001        0.04\n",
              "13     202002        0.03\n",
              "14     202003        0.04\n",
              "15     202004        0.04\n",
              "16     202005        0.04\n",
              "17     202006        0.04\n",
              "18     202007        0.05\n",
              "19     202008        0.04\n",
              "20     202009        0.05\n",
              "21     202010        0.05\n",
              "22     202011        0.05\n",
              "23     202012        0.05"
            ]
          },
          "metadata": {},
          "execution_count": 328
        }
      ]
    },
    {
      "cell_type": "code",
      "metadata": {
        "colab": {
          "base_uri": "https://localhost:8080/",
          "height": 54
        },
        "id": "m9V5ZgoRAVA_",
        "outputId": "73e52481-f5f4-4e06-ca7f-587f09369e1c"
      },
      "source": [
        "figure,axis = plt.subplots(figsize=(24,6))\n",
        "sns.barplot(ax=axis, x='YearMonth', y='new_or_not',data=custom_ratio)\n",
        "axis.grid()\n",
        "plt.show()"
      ],
      "execution_count": 329,
      "outputs": [
        {
          "output_type": "display_data",
          "data": {
            "image/png": "[encoded data removed]",
            "text/plain": [
              "<Figure size 1728x432 with 1 Axes>"
            ]
          },
          "metadata": {
            "needs_background": "light"
          }
        }
      ]
    },
    {
      "cell_type": "markdown",
      "source": [
        "# Customer Clustering"
      ],
      "metadata": {
        "id": "aMKpaq_nWNIz"
      }
    },
    {
      "cell_type": "markdown",
      "source": [
        "## R"
      ],
      "metadata": {
        "id": "S9PacV930YSw"
      }
    },
    {
      "cell_type": "code",
      "source": [
        "# 分群的項目\n",
        "# Recency 客戶活躍度\n",
        "# Frequency\n",
        "# Revenue(Monetary)\n",
        "# 最後再依照分群結果分出分出RFM模型\n",
        "\n",
        "df = pd.read_csv('/content/drive/MyDrive/T大使/df_IQR.csv')\n",
        "sales_data_user = pd.DataFrame(df['CustomerID'].unique())\n",
        "sales_data_user.columns = ['CustomerID']\n",
        "df['InvoiceDate'] = pd.to_datetime(df['InvoiceDate'])\n",
        "# 計算不活躍天數\n",
        "tx_max_purchase = df.groupby('CustomerID').InvoiceDate.max().reset_index()\n",
        "tx_max_purchase.columns = ['CustomerID','MaxPurchaseDate']\n",
        "tx_max_purchase['Recency'] = (tx_max_purchase['MaxPurchaseDate'].max()-tx_max_purchase['MaxPurchaseDate']).dt.days\n",
        "# tx_max_purchase['Recency_2'] = ((tx_max_purchase['MaxPurchaseDate'].max()-tx_max_purchase['MaxPurchaseDate']))/np.timedelta64(1,'D')\n",
        "sales_data_user = pd.merge(sales_data_user, tx_max_purchase[['CustomerID','Recency']],on='CustomerID')"
      ],
      "metadata": {
        "id": "kTJruV7gWMSI"
      },
      "execution_count": 362,
      "outputs": []
    },
    {
      "cell_type": "code",
      "source": [
        "tx_max_purchase.info()"
      ],
      "metadata": {
        "colab": {
          "base_uri": "https://localhost:8080/"
        },
        "id": "rW6tHCf6Zl3C",
        "outputId": "e590894f-aad6-4637-cede-603b7bc7e4aa"
      },
      "execution_count": 363,
      "outputs": [
        {
          "output_type": "stream",
          "name": "stdout",
          "text": [
            "<class 'pandas.core.frame.DataFrame'>\n",
            "RangeIndex: 78444 entries, 0 to 78443\n",
            "Data columns (total 3 columns):\n",
            " #   Column           Non-Null Count  Dtype         \n",
            "---  ------           --------------  -----         \n",
            " 0   CustomerID       78444 non-null  float64       \n",
            " 1   MaxPurchaseDate  78444 non-null  datetime64[ns]\n",
            " 2   Recency          78444 non-null  int64         \n",
            "dtypes: datetime64[ns](1), float64(1), int64(1)\n",
            "memory usage: 1.8 MB\n"
          ]
        }
      ]
    },
    {
      "cell_type": "code",
      "source": [
        "fig, axes = plt.subplots(figsize=(16,6))\n",
        "sns.histplot(data = sales_data_user['Recency'], ax=axes)\n",
        "plt.show()"
      ],
      "metadata": {
        "colab": {
          "base_uri": "https://localhost:8080/",
          "height": 388
        },
        "id": "GHjcIek-bRSd",
        "outputId": "7eec864c-c22a-401e-c54c-e0cb3487a0af"
      },
      "execution_count": 364,
      "outputs": [
        {
          "output_type": "display_data",
          "data": {
            "image/png": "[encoded data removed]",
            "text/plain": [
              "<Figure size 1152x432 with 1 Axes>"
            ]
          },
          "metadata": {
            "needs_background": "light"
          }
        }
      ]
    },
    {
      "cell_type": "code",
      "source": [
        "sales_data_user.Recency.describe()"
      ],
      "metadata": {
        "colab": {
          "base_uri": "https://localhost:8080/"
        },
        "id": "T7pibNjjfGPx",
        "outputId": "b9aa0f68-4f66-44bc-b44c-82bc01db5699"
      },
      "execution_count": 365,
      "outputs": [
        {
          "output_type": "execute_result",
          "data": {
            "text/plain": [
              "count   78444.00\n",
              "mean      259.36\n",
              "std       216.96\n",
              "min         0.00\n",
              "25%        57.00\n",
              "50%       212.00\n",
              "75%       428.00\n",
              "max       730.00\n",
              "Name: Recency, dtype: float64"
            ]
          },
          "metadata": {},
          "execution_count": 365
        }
      ]
    },
    {
      "cell_type": "code",
      "source": [
        "# function for ordering cluster numbers\n",
        "def order_cluster(cluster_field_name,target_field_name,df,ascending):\n",
        "    new_cluster_field_name = 'new_' + cluster_field_name\n",
        "    df_new = df.groupby(cluster_field_name)[target_field_name].mean().reset_index()\n",
        "    df_new = df_new.sort_values(by=target_field_name,ascending=ascending).reset_index(drop=True)\n",
        "    df_new['index'] = df_new.index\n",
        "    df_final = pd.merge(df,df_new[[cluster_field_name,'index']],on=cluster_field_name)\n",
        "    df_final = df_final.drop([cluster_field_name],axis=1)\n",
        "    df_final = df_final.rename(columns={'index':cluster_field_name})\n",
        "    return df_final"
      ],
      "metadata": {
        "id": "JbeVylIteW9D"
      },
      "execution_count": 366,
      "outputs": []
    },
    {
      "cell_type": "code",
      "source": [
        "# Elbow Method\n",
        "from sklearn.cluster import KMeans\n",
        "\n",
        "sse={}\n",
        "tx_recency = sales_data_user[['Recency']]\n",
        "for k in range(1,10):\n",
        "    kmeans = KMeans(n_clusters=k, max_iter=1000).fit(tx_recency)\n",
        "    tx_recency['clusters'] = kmeans.labels_\n",
        "    sse[k] = kmeans.inertia_\n",
        "plt.figure()\n",
        "plt.plot(list(sse.keys()),list(sse.values()))\n",
        "plt.xlabel(\"Number of cluster\")\n",
        "plt.show()"
      ],
      "metadata": {
        "colab": {
          "base_uri": "https://localhost:8080/",
          "height": 290
        },
        "id": "iPqZw-bphTb2",
        "outputId": "cac476cd-90c6-490b-bea5-ba3e3e78daaa"
      },
      "execution_count": 367,
      "outputs": [
        {
          "output_type": "display_data",
          "data": {
            "image/png": "[encoded data removed]",
            "text/plain": [
              "<Figure size 432x288 with 1 Axes>"
            ]
          },
          "metadata": {
            "needs_background": "light"
          }
        }
      ]
    },
    {
      "cell_type": "code",
      "source": [
        "# 4 clusters\n",
        "kmeans = KMeans(n_clusters=4)\n",
        "kmeans.fit(sales_data_user[['Recency']])\n",
        "sales_data_user['RecencyCluster'] = kmeans.predict(sales_data_user[['Recency']])\n",
        "\n",
        "sales_data_user = order_cluster('RecencyCluster','Recency',sales_data_user,False)\n",
        "\n",
        "sales_data_user.groupby('RecencyCluster')['Recency'].describe()"
      ],
      "metadata": {
        "colab": {
          "base_uri": "https://localhost:8080/",
          "height": 204
        },
        "id": "EPGfw5f_jKZ-",
        "outputId": "afd6655f-7077-414b-adc5-5ba31e694d45"
      },
      "execution_count": 368,
      "outputs": [
        {
          "output_type": "execute_result",
          "data": {
            "text/html": [
              "<div>\n",
              "<style scoped>\n",
              "    .dataframe tbody tr th:only-of-type {\n",
              "        vertical-align: middle;\n",
              "    }\n",
              "\n",
              "    .dataframe tbody tr th {\n",
              "        vertical-align: top;\n",
              "    }\n",
              "\n",
              "    .dataframe thead th {\n",
              "        text-align: right;\n",
              "    }\n",
              "</style>\n",
              "<table border=\"1\" class=\"dataframe\">\n",
              "  <thead>\n",
              "    <tr style=\"text-align: right;\">\n",
              "      <th></th>\n",
              "      <th>count</th>\n",
              "      <th>mean</th>\n",
              "      <th>std</th>\n",
              "      <th>min</th>\n",
              "      <th>25%</th>\n",
              "      <th>50%</th>\n",
              "      <th>75%</th>\n",
              "      <th>max</th>\n",
              "    </tr>\n",
              "    <tr>\n",
              "      <th>RecencyCluster</th>\n",
              "      <th></th>\n",
              "      <th></th>\n",
              "      <th></th>\n",
              "      <th></th>\n",
              "      <th></th>\n",
              "      <th></th>\n",
              "      <th></th>\n",
              "      <th></th>\n",
              "    </tr>\n",
              "  </thead>\n",
              "  <tbody>\n",
              "    <tr>\n",
              "      <th>0</th>\n",
              "      <td>12645.00</td>\n",
              "      <td>622.89</td>\n",
              "      <td>56.41</td>\n",
              "      <td>525.00</td>\n",
              "      <td>578.00</td>\n",
              "      <td>620.00</td>\n",
              "      <td>670.00</td>\n",
              "      <td>730.00</td>\n",
              "    </tr>\n",
              "    <tr>\n",
              "      <th>1</th>\n",
              "      <td>15650.00</td>\n",
              "      <td>424.62</td>\n",
              "      <td>53.28</td>\n",
              "      <td>330.00</td>\n",
              "      <td>378.00</td>\n",
              "      <td>427.00</td>\n",
              "      <td>465.00</td>\n",
              "      <td>524.00</td>\n",
              "    </tr>\n",
              "    <tr>\n",
              "      <th>2</th>\n",
              "      <td>17868.00</td>\n",
              "      <td>232.85</td>\n",
              "      <td>52.47</td>\n",
              "      <td>143.00</td>\n",
              "      <td>189.00</td>\n",
              "      <td>225.00</td>\n",
              "      <td>279.00</td>\n",
              "      <td>329.00</td>\n",
              "    </tr>\n",
              "    <tr>\n",
              "      <th>3</th>\n",
              "      <td>32281.00</td>\n",
              "      <td>51.51</td>\n",
              "      <td>40.47</td>\n",
              "      <td>0.00</td>\n",
              "      <td>17.00</td>\n",
              "      <td>42.00</td>\n",
              "      <td>81.00</td>\n",
              "      <td>142.00</td>\n",
              "    </tr>\n",
              "  </tbody>\n",
              "</table>\n",
              "</div>"
            ],
            "text/plain": [
              "                  count   mean   std    min    25%    50%    75%    max\n",
              "RecencyCluster                                                         \n",
              "0              12645.00 622.89 56.41 525.00 578.00 620.00 670.00 730.00\n",
              "1              15650.00 424.62 53.28 330.00 378.00 427.00 465.00 524.00\n",
              "2              17868.00 232.85 52.47 143.00 189.00 225.00 279.00 329.00\n",
              "3              32281.00  51.51 40.47   0.00  17.00  42.00  81.00 142.00"
            ]
          },
          "metadata": {},
          "execution_count": 368
        }
      ]
    },
    {
      "cell_type": "markdown",
      "source": [
        "## F"
      ],
      "metadata": {
        "id": "dZgheTmo0bKC"
      }
    },
    {
      "cell_type": "code",
      "source": [
        "# Frequency\n",
        "tx_frequency = df.groupby('CustomerID').InvoiceDate.count().reset_index()\n",
        "tx_frequency.columns = ['CustomerID','Frequency']\n",
        "\n",
        "sales_data_user = pd.merge(sales_data_user,tx_frequency, on='CustomerID')\n",
        "sales_data_user"
      ],
      "metadata": {
        "colab": {
          "base_uri": "https://localhost:8080/",
          "height": 419
        },
        "id": "_IZCw2tLmwLT",
        "outputId": "8678c991-6e82-4cef-cef9-8ec192373e5b"
      },
      "execution_count": 369,
      "outputs": [
        {
          "output_type": "execute_result",
          "data": {
            "text/html": [
              "<div>\n",
              "<style scoped>\n",
              "    .dataframe tbody tr th:only-of-type {\n",
              "        vertical-align: middle;\n",
              "    }\n",
              "\n",
              "    .dataframe tbody tr th {\n",
              "        vertical-align: top;\n",
              "    }\n",
              "\n",
              "    .dataframe thead th {\n",
              "        text-align: right;\n",
              "    }\n",
              "</style>\n",
              "<table border=\"1\" class=\"dataframe\">\n",
              "  <thead>\n",
              "    <tr style=\"text-align: right;\">\n",
              "      <th></th>\n",
              "      <th>CustomerID</th>\n",
              "      <th>Recency</th>\n",
              "      <th>RecencyCluster</th>\n",
              "      <th>Frequency</th>\n",
              "    </tr>\n",
              "  </thead>\n",
              "  <tbody>\n",
              "    <tr>\n",
              "      <th>0</th>\n",
              "      <td>9100002488768.00</td>\n",
              "      <td>123</td>\n",
              "      <td>3</td>\n",
              "      <td>23</td>\n",
              "    </tr>\n",
              "    <tr>\n",
              "      <th>1</th>\n",
              "      <td>9100000301403.00</td>\n",
              "      <td>82</td>\n",
              "      <td>3</td>\n",
              "      <td>37</td>\n",
              "    </tr>\n",
              "    <tr>\n",
              "      <th>2</th>\n",
              "      <td>9100000382303.00</td>\n",
              "      <td>13</td>\n",
              "      <td>3</td>\n",
              "      <td>76</td>\n",
              "    </tr>\n",
              "    <tr>\n",
              "      <th>3</th>\n",
              "      <td>9100000045758.00</td>\n",
              "      <td>54</td>\n",
              "      <td>3</td>\n",
              "      <td>91</td>\n",
              "    </tr>\n",
              "    <tr>\n",
              "      <th>4</th>\n",
              "      <td>9100000190649.00</td>\n",
              "      <td>34</td>\n",
              "      <td>3</td>\n",
              "      <td>104</td>\n",
              "    </tr>\n",
              "    <tr>\n",
              "      <th>...</th>\n",
              "      <td>...</td>\n",
              "      <td>...</td>\n",
              "      <td>...</td>\n",
              "      <td>...</td>\n",
              "    </tr>\n",
              "    <tr>\n",
              "      <th>78439</th>\n",
              "      <td>9100002762738.00</td>\n",
              "      <td>330</td>\n",
              "      <td>1</td>\n",
              "      <td>2</td>\n",
              "    </tr>\n",
              "    <tr>\n",
              "      <th>78440</th>\n",
              "      <td>9100002762752.00</td>\n",
              "      <td>330</td>\n",
              "      <td>1</td>\n",
              "      <td>2</td>\n",
              "    </tr>\n",
              "    <tr>\n",
              "      <th>78441</th>\n",
              "      <td>9100002583531.00</td>\n",
              "      <td>330</td>\n",
              "      <td>1</td>\n",
              "      <td>3</td>\n",
              "    </tr>\n",
              "    <tr>\n",
              "      <th>78442</th>\n",
              "      <td>9100000613452.00</td>\n",
              "      <td>330</td>\n",
              "      <td>1</td>\n",
              "      <td>2</td>\n",
              "    </tr>\n",
              "    <tr>\n",
              "      <th>78443</th>\n",
              "      <td>9100002762800.00</td>\n",
              "      <td>330</td>\n",
              "      <td>1</td>\n",
              "      <td>1</td>\n",
              "    </tr>\n",
              "  </tbody>\n",
              "</table>\n",
              "<p>78444 rows × 4 columns</p>\n",
              "</div>"
            ],
            "text/plain": [
              "            CustomerID  Recency  RecencyCluster  Frequency\n",
              "0     9100002488768.00      123               3         23\n",
              "1     9100000301403.00       82               3         37\n",
              "2     9100000382303.00       13               3         76\n",
              "3     9100000045758.00       54               3         91\n",
              "4     9100000190649.00       34               3        104\n",
              "...                ...      ...             ...        ...\n",
              "78439 9100002762738.00      330               1          2\n",
              "78440 9100002762752.00      330               1          2\n",
              "78441 9100002583531.00      330               1          3\n",
              "78442 9100000613452.00      330               1          2\n",
              "78443 9100002762800.00      330               1          1\n",
              "\n",
              "[78444 rows x 4 columns]"
            ]
          },
          "metadata": {},
          "execution_count": 369
        }
      ]
    },
    {
      "cell_type": "code",
      "source": [
        "fig, axes = plt.subplots(figsize=(16,6))\n",
        "sns.histplot(data=sales_data_user['Frequency'],ax=axes)\n",
        "plt.show()"
      ],
      "metadata": {
        "colab": {
          "base_uri": "https://localhost:8080/",
          "height": 388
        },
        "id": "EFRUJECJqTag",
        "outputId": "d6d62cf6-7b42-4fad-aa0e-077b81a91cea"
      },
      "execution_count": 370,
      "outputs": [
        {
          "output_type": "display_data",
          "data": {
            "image/png": "[encoded data removed]",
            "text/plain": [
              "<Figure size 1152x432 with 1 Axes>"
            ]
          },
          "metadata": {
            "needs_background": "light"
          }
        }
      ]
    },
    {
      "cell_type": "code",
      "source": [
        "tx_frequency.Frequency.describe()\n",
        "# df.loc[df['CustomerID'] == tx_frequency.loc[tx_frequency['Frequency']==2723]['CustomerID'].values[0]]"
      ],
      "metadata": {
        "colab": {
          "base_uri": "https://localhost:8080/"
        },
        "id": "8V-hOYPrqzeO",
        "outputId": "7a389a76-f6b8-47cf-a492-116f5e181c77"
      },
      "execution_count": 371,
      "outputs": [
        {
          "output_type": "execute_result",
          "data": {
            "text/plain": [
              "count   78444.00\n",
              "mean       15.06\n",
              "std        29.15\n",
              "min         1.00\n",
              "25%         2.00\n",
              "50%         5.00\n",
              "75%        18.00\n",
              "max      2723.00\n",
              "Name: Frequency, dtype: float64"
            ]
          },
          "metadata": {},
          "execution_count": 371
        }
      ]
    },
    {
      "cell_type": "code",
      "source": [
        "# 4 clusters\n",
        "kmeans = KMeans(n_clusters=4)\n",
        "kmeans.fit(sales_data_user[['Frequency']])\n",
        "sales_data_user['FrequencyCluster'] = kmeans.predict(sales_data_user[['Frequency']])\n",
        "\n",
        "sales_data_user = order_cluster('FrequencyCluster','Frequency',sales_data_user,False)\n",
        "\n",
        "sales_data_user.groupby('FrequencyCluster')['Frequency'].describe()"
      ],
      "metadata": {
        "colab": {
          "base_uri": "https://localhost:8080/",
          "height": 204
        },
        "id": "uahqcsyqq6w1",
        "outputId": "88fddd24-56c1-4473-ae3b-65ed24a76cc7"
      },
      "execution_count": 372,
      "outputs": [
        {
          "output_type": "execute_result",
          "data": {
            "text/html": [
              "<div>\n",
              "<style scoped>\n",
              "    .dataframe tbody tr th:only-of-type {\n",
              "        vertical-align: middle;\n",
              "    }\n",
              "\n",
              "    .dataframe tbody tr th {\n",
              "        vertical-align: top;\n",
              "    }\n",
              "\n",
              "    .dataframe thead th {\n",
              "        text-align: right;\n",
              "    }\n",
              "</style>\n",
              "<table border=\"1\" class=\"dataframe\">\n",
              "  <thead>\n",
              "    <tr style=\"text-align: right;\">\n",
              "      <th></th>\n",
              "      <th>count</th>\n",
              "      <th>mean</th>\n",
              "      <th>std</th>\n",
              "      <th>min</th>\n",
              "      <th>25%</th>\n",
              "      <th>50%</th>\n",
              "      <th>75%</th>\n",
              "      <th>max</th>\n",
              "    </tr>\n",
              "    <tr>\n",
              "      <th>FrequencyCluster</th>\n",
              "      <th></th>\n",
              "      <th></th>\n",
              "      <th></th>\n",
              "      <th></th>\n",
              "      <th></th>\n",
              "      <th></th>\n",
              "      <th></th>\n",
              "      <th></th>\n",
              "    </tr>\n",
              "  </thead>\n",
              "  <tbody>\n",
              "    <tr>\n",
              "      <th>0</th>\n",
              "      <td>3.00</td>\n",
              "      <td>2121.00</td>\n",
              "      <td>549.93</td>\n",
              "      <td>1645.00</td>\n",
              "      <td>1820.00</td>\n",
              "      <td>1995.00</td>\n",
              "      <td>2359.00</td>\n",
              "      <td>2723.00</td>\n",
              "    </tr>\n",
              "    <tr>\n",
              "      <th>1</th>\n",
              "      <td>1636.00</td>\n",
              "      <td>136.68</td>\n",
              "      <td>61.86</td>\n",
              "      <td>92.00</td>\n",
              "      <td>103.00</td>\n",
              "      <td>119.00</td>\n",
              "      <td>148.00</td>\n",
              "      <td>1026.00</td>\n",
              "    </tr>\n",
              "    <tr>\n",
              "      <th>2</th>\n",
              "      <td>12119.00</td>\n",
              "      <td>45.44</td>\n",
              "      <td>16.65</td>\n",
              "      <td>26.00</td>\n",
              "      <td>32.00</td>\n",
              "      <td>41.00</td>\n",
              "      <td>56.00</td>\n",
              "      <td>91.00</td>\n",
              "    </tr>\n",
              "    <tr>\n",
              "      <th>3</th>\n",
              "      <td>64686.00</td>\n",
              "      <td>6.19</td>\n",
              "      <td>6.40</td>\n",
              "      <td>1.00</td>\n",
              "      <td>1.00</td>\n",
              "      <td>3.00</td>\n",
              "      <td>9.00</td>\n",
              "      <td>25.00</td>\n",
              "    </tr>\n",
              "  </tbody>\n",
              "</table>\n",
              "</div>"
            ],
            "text/plain": [
              "                    count    mean    std  ...     50%     75%     max\n",
              "FrequencyCluster                          ...                        \n",
              "0                    3.00 2121.00 549.93  ... 1995.00 2359.00 2723.00\n",
              "1                 1636.00  136.68  61.86  ...  119.00  148.00 1026.00\n",
              "2                12119.00   45.44  16.65  ...   41.00   56.00   91.00\n",
              "3                64686.00    6.19   6.40  ...    3.00    9.00   25.00\n",
              "\n",
              "[4 rows x 8 columns]"
            ]
          },
          "metadata": {},
          "execution_count": 372
        }
      ]
    },
    {
      "cell_type": "code",
      "source": [
        "# 清除消費的異常值 ∵最大的那一群只有三筆\n",
        "sales_data_user2 = sales_data_user.copy()\n",
        "# Zscore\n",
        "sales_data_user['zscore'] = (sales_data_user['Frequency'] - sales_data_user['Frequency'].mean())/sales_data_user['Frequency'].std(ddof=0)\n",
        "sales_data_user['Outlier'] = (sales_data_user['zscore'].abs()>3).astype(int)\n",
        "sales_data_user = sales_data_user.loc[sales_data_user['Outlier']==0]\n",
        "# IQR\n",
        "\n",
        "lowerbound, higherbound = Outlier_treatmeant(sales_data_user2['Frequency'])\n",
        "sales_data_user2.loc[(sales_data_user2['Frequency']>higherbound) | (sales_data_user2['Frequency'] < lowerbound)]\n",
        "sales_data_user2 = sales_data_user2.loc[(sales_data_user2['Frequency']<higherbound) & (sales_data_user2['Frequency'] > lowerbound)]"
      ],
      "metadata": {
        "id": "G2QV14JtqzYV"
      },
      "execution_count": 373,
      "outputs": []
    },
    {
      "cell_type": "code",
      "source": [
        "kmeans = KMeans(n_clusters=4)\n",
        "kmeans.fit(sales_data_user[['Frequency']])\n",
        "sales_data_user['FrequencyCluster'] = kmeans.predict(sales_data_user[['Frequency']])\n",
        "\n",
        "sales_data_user = order_cluster('FrequencyCluster','Frequency',sales_data_user,False)\n",
        "\n",
        "sales_data_user.groupby('FrequencyCluster')['Frequency'].describe()"
      ],
      "metadata": {
        "colab": {
          "base_uri": "https://localhost:8080/",
          "height": 204
        },
        "id": "MArxnsJVqzTk",
        "outputId": "d6e8005b-9e8c-479d-d7db-a931699d77af"
      },
      "execution_count": 374,
      "outputs": [
        {
          "output_type": "execute_result",
          "data": {
            "text/html": [
              "<div>\n",
              "<style scoped>\n",
              "    .dataframe tbody tr th:only-of-type {\n",
              "        vertical-align: middle;\n",
              "    }\n",
              "\n",
              "    .dataframe tbody tr th {\n",
              "        vertical-align: top;\n",
              "    }\n",
              "\n",
              "    .dataframe thead th {\n",
              "        text-align: right;\n",
              "    }\n",
              "</style>\n",
              "<table border=\"1\" class=\"dataframe\">\n",
              "  <thead>\n",
              "    <tr style=\"text-align: right;\">\n",
              "      <th></th>\n",
              "      <th>count</th>\n",
              "      <th>mean</th>\n",
              "      <th>std</th>\n",
              "      <th>min</th>\n",
              "      <th>25%</th>\n",
              "      <th>50%</th>\n",
              "      <th>75%</th>\n",
              "      <th>max</th>\n",
              "    </tr>\n",
              "    <tr>\n",
              "      <th>FrequencyCluster</th>\n",
              "      <th></th>\n",
              "      <th></th>\n",
              "      <th></th>\n",
              "      <th></th>\n",
              "      <th></th>\n",
              "      <th></th>\n",
              "      <th></th>\n",
              "      <th></th>\n",
              "    </tr>\n",
              "  </thead>\n",
              "  <tbody>\n",
              "    <tr>\n",
              "      <th>0</th>\n",
              "      <td>3006.00</td>\n",
              "      <td>75.25</td>\n",
              "      <td>12.02</td>\n",
              "      <td>59.00</td>\n",
              "      <td>65.00</td>\n",
              "      <td>73.00</td>\n",
              "      <td>84.00</td>\n",
              "      <td>102.00</td>\n",
              "    </tr>\n",
              "    <tr>\n",
              "      <th>1</th>\n",
              "      <td>7475.00</td>\n",
              "      <td>41.09</td>\n",
              "      <td>8.14</td>\n",
              "      <td>30.00</td>\n",
              "      <td>34.00</td>\n",
              "      <td>40.00</td>\n",
              "      <td>47.00</td>\n",
              "      <td>58.00</td>\n",
              "    </tr>\n",
              "    <tr>\n",
              "      <th>2</th>\n",
              "      <td>16266.00</td>\n",
              "      <td>18.13</td>\n",
              "      <td>5.32</td>\n",
              "      <td>11.00</td>\n",
              "      <td>13.00</td>\n",
              "      <td>17.00</td>\n",
              "      <td>22.00</td>\n",
              "      <td>29.00</td>\n",
              "    </tr>\n",
              "    <tr>\n",
              "      <th>3</th>\n",
              "      <td>50459.00</td>\n",
              "      <td>3.20</td>\n",
              "      <td>2.63</td>\n",
              "      <td>1.00</td>\n",
              "      <td>1.00</td>\n",
              "      <td>2.00</td>\n",
              "      <td>5.00</td>\n",
              "      <td>10.00</td>\n",
              "    </tr>\n",
              "  </tbody>\n",
              "</table>\n",
              "</div>"
            ],
            "text/plain": [
              "                    count  mean   std   min   25%   50%   75%    max\n",
              "FrequencyCluster                                                    \n",
              "0                 3006.00 75.25 12.02 59.00 65.00 73.00 84.00 102.00\n",
              "1                 7475.00 41.09  8.14 30.00 34.00 40.00 47.00  58.00\n",
              "2                16266.00 18.13  5.32 11.00 13.00 17.00 22.00  29.00\n",
              "3                50459.00  3.20  2.63  1.00  1.00  2.00  5.00  10.00"
            ]
          },
          "metadata": {},
          "execution_count": 374
        }
      ]
    },
    {
      "cell_type": "code",
      "source": [
        "kmeans = KMeans(n_clusters=4)\n",
        "kmeans.fit(sales_data_user2[['Frequency']])\n",
        "sales_data_user2['FrequencyCluster'] = kmeans.predict(sales_data_user2[['Frequency']])\n",
        "\n",
        "sales_data_user2 = order_cluster('FrequencyCluster','Frequency',sales_data_user2,True)\n",
        "\n",
        "sales_data_user2.groupby('FrequencyCluster')['Frequency'].describe()"
      ],
      "metadata": {
        "colab": {
          "base_uri": "https://localhost:8080/",
          "height": 204
        },
        "id": "PoQZ5K6KqzO1",
        "outputId": "903272e7-ba0c-4c9a-b701-90b6cf3390c2"
      },
      "execution_count": 375,
      "outputs": [
        {
          "output_type": "execute_result",
          "data": {
            "text/html": [
              "<div>\n",
              "<style scoped>\n",
              "    .dataframe tbody tr th:only-of-type {\n",
              "        vertical-align: middle;\n",
              "    }\n",
              "\n",
              "    .dataframe tbody tr th {\n",
              "        vertical-align: top;\n",
              "    }\n",
              "\n",
              "    .dataframe thead th {\n",
              "        text-align: right;\n",
              "    }\n",
              "</style>\n",
              "<table border=\"1\" class=\"dataframe\">\n",
              "  <thead>\n",
              "    <tr style=\"text-align: right;\">\n",
              "      <th></th>\n",
              "      <th>count</th>\n",
              "      <th>mean</th>\n",
              "      <th>std</th>\n",
              "      <th>min</th>\n",
              "      <th>25%</th>\n",
              "      <th>50%</th>\n",
              "      <th>75%</th>\n",
              "      <th>max</th>\n",
              "    </tr>\n",
              "    <tr>\n",
              "      <th>FrequencyCluster</th>\n",
              "      <th></th>\n",
              "      <th></th>\n",
              "      <th></th>\n",
              "      <th></th>\n",
              "      <th></th>\n",
              "      <th></th>\n",
              "      <th></th>\n",
              "      <th></th>\n",
              "    </tr>\n",
              "  </thead>\n",
              "  <tbody>\n",
              "    <tr>\n",
              "      <th>0</th>\n",
              "      <td>40255.00</td>\n",
              "      <td>2.04</td>\n",
              "      <td>1.22</td>\n",
              "      <td>1.00</td>\n",
              "      <td>1.00</td>\n",
              "      <td>2.00</td>\n",
              "      <td>3.00</td>\n",
              "      <td>5.00</td>\n",
              "    </tr>\n",
              "    <tr>\n",
              "      <th>1</th>\n",
              "      <td>15448.00</td>\n",
              "      <td>9.35</td>\n",
              "      <td>2.55</td>\n",
              "      <td>6.00</td>\n",
              "      <td>7.00</td>\n",
              "      <td>9.00</td>\n",
              "      <td>11.00</td>\n",
              "      <td>14.00</td>\n",
              "    </tr>\n",
              "    <tr>\n",
              "      <th>2</th>\n",
              "      <td>9541.00</td>\n",
              "      <td>19.75</td>\n",
              "      <td>3.41</td>\n",
              "      <td>15.00</td>\n",
              "      <td>17.00</td>\n",
              "      <td>19.00</td>\n",
              "      <td>23.00</td>\n",
              "      <td>26.00</td>\n",
              "    </tr>\n",
              "    <tr>\n",
              "      <th>3</th>\n",
              "      <td>5733.00</td>\n",
              "      <td>33.17</td>\n",
              "      <td>4.28</td>\n",
              "      <td>27.00</td>\n",
              "      <td>29.00</td>\n",
              "      <td>33.00</td>\n",
              "      <td>37.00</td>\n",
              "      <td>41.00</td>\n",
              "    </tr>\n",
              "  </tbody>\n",
              "</table>\n",
              "</div>"
            ],
            "text/plain": [
              "                    count  mean  std   min   25%   50%   75%   max\n",
              "FrequencyCluster                                                  \n",
              "0                40255.00  2.04 1.22  1.00  1.00  2.00  3.00  5.00\n",
              "1                15448.00  9.35 2.55  6.00  7.00  9.00 11.00 14.00\n",
              "2                 9541.00 19.75 3.41 15.00 17.00 19.00 23.00 26.00\n",
              "3                 5733.00 33.17 4.28 27.00 29.00 33.00 37.00 41.00"
            ]
          },
          "metadata": {},
          "execution_count": 375
        }
      ]
    },
    {
      "cell_type": "markdown",
      "source": [
        "## M"
      ],
      "metadata": {
        "id": "bxNlk1TW0mVm"
      }
    },
    {
      "cell_type": "code",
      "source": [
        "# Revenue\n",
        "tx_revenue = df.groupby('CustomerID').Revenue.sum().reset_index()\n",
        "\n",
        "sales_data_user2 = pd.merge(sales_data_user2,tx_revenue, on='CustomerID')\n",
        "\n",
        "kmeans = KMeans(n_clusters=4)\n",
        "kmeans.fit(sales_data_user2[['Revenue']])\n",
        "sales_data_user2['RevenueCluster'] = kmeans.predict(sales_data_user2[['Revenue']])\n",
        "\n",
        "sales_data_user2 = order_cluster('RevenueCluster','Revenue',sales_data_user2,True)\n",
        "\n",
        "sales_data_user2.groupby('RevenueCluster')['Revenue'].describe()"
      ],
      "metadata": {
        "colab": {
          "base_uri": "https://localhost:8080/",
          "height": 204
        },
        "id": "IV_DYVuaqzKE",
        "outputId": "061b2cff-6ab2-4e32-dd84-116e872342ca"
      },
      "execution_count": 376,
      "outputs": [
        {
          "output_type": "execute_result",
          "data": {
            "text/html": [
              "<div>\n",
              "<style scoped>\n",
              "    .dataframe tbody tr th:only-of-type {\n",
              "        vertical-align: middle;\n",
              "    }\n",
              "\n",
              "    .dataframe tbody tr th {\n",
              "        vertical-align: top;\n",
              "    }\n",
              "\n",
              "    .dataframe thead th {\n",
              "        text-align: right;\n",
              "    }\n",
              "</style>\n",
              "<table border=\"1\" class=\"dataframe\">\n",
              "  <thead>\n",
              "    <tr style=\"text-align: right;\">\n",
              "      <th></th>\n",
              "      <th>count</th>\n",
              "      <th>mean</th>\n",
              "      <th>std</th>\n",
              "      <th>min</th>\n",
              "      <th>25%</th>\n",
              "      <th>50%</th>\n",
              "      <th>75%</th>\n",
              "      <th>max</th>\n",
              "    </tr>\n",
              "    <tr>\n",
              "      <th>RevenueCluster</th>\n",
              "      <th></th>\n",
              "      <th></th>\n",
              "      <th></th>\n",
              "      <th></th>\n",
              "      <th></th>\n",
              "      <th></th>\n",
              "      <th></th>\n",
              "      <th></th>\n",
              "    </tr>\n",
              "  </thead>\n",
              "  <tbody>\n",
              "    <tr>\n",
              "      <th>0</th>\n",
              "      <td>43890.00</td>\n",
              "      <td>16578.72</td>\n",
              "      <td>17272.50</td>\n",
              "      <td>-24584.00</td>\n",
              "      <td>5272.00</td>\n",
              "      <td>8928.00</td>\n",
              "      <td>22680.00</td>\n",
              "      <td>67720.00</td>\n",
              "    </tr>\n",
              "    <tr>\n",
              "      <th>1</th>\n",
              "      <td>15217.00</td>\n",
              "      <td>118936.02</td>\n",
              "      <td>34330.76</td>\n",
              "      <td>67728.00</td>\n",
              "      <td>88816.00</td>\n",
              "      <td>114248.00</td>\n",
              "      <td>146856.00</td>\n",
              "      <td>188552.00</td>\n",
              "    </tr>\n",
              "    <tr>\n",
              "      <th>2</th>\n",
              "      <td>8478.00</td>\n",
              "      <td>257907.96</td>\n",
              "      <td>46663.99</td>\n",
              "      <td>188568.00</td>\n",
              "      <td>216490.00</td>\n",
              "      <td>252644.00</td>\n",
              "      <td>295550.00</td>\n",
              "      <td>353720.00</td>\n",
              "    </tr>\n",
              "    <tr>\n",
              "      <th>3</th>\n",
              "      <td>3392.00</td>\n",
              "      <td>448713.82</td>\n",
              "      <td>85802.45</td>\n",
              "      <td>353776.00</td>\n",
              "      <td>384896.00</td>\n",
              "      <td>426404.00</td>\n",
              "      <td>484268.00</td>\n",
              "      <td>1049096.00</td>\n",
              "    </tr>\n",
              "  </tbody>\n",
              "</table>\n",
              "</div>"
            ],
            "text/plain": [
              "                  count      mean      std  ...       50%       75%        max\n",
              "RevenueCluster                              ...                               \n",
              "0              43890.00  16578.72 17272.50  ...   8928.00  22680.00   67720.00\n",
              "1              15217.00 118936.02 34330.76  ... 114248.00 146856.00  188552.00\n",
              "2               8478.00 257907.96 46663.99  ... 252644.00 295550.00  353720.00\n",
              "3               3392.00 448713.82 85802.45  ... 426404.00 484268.00 1049096.00\n",
              "\n",
              "[4 rows x 8 columns]"
            ]
          },
          "metadata": {},
          "execution_count": 376
        }
      ]
    },
    {
      "cell_type": "markdown",
      "source": [
        "## Total score"
      ],
      "metadata": {
        "id": "RRCC30I03lfs"
      }
    },
    {
      "cell_type": "code",
      "source": [
        "sales_data_user2['OverallScore'] = sales_data_user2['RecencyCluster']+sales_data_user2['FrequencyCluster']+sales_data_user2['RevenueCluster']\n",
        "\n",
        "print(sales_data_user2.groupby('OverallScore')['Recency'].mean())\n",
        "print(sales_data_user2.groupby('OverallScore')['Frequency'].mean())\n",
        "print(sales_data_user2.groupby('OverallScore')['Revenue'].mean())"
      ],
      "metadata": {
        "colab": {
          "base_uri": "https://localhost:8080/"
        },
        "id": "Eb0-S3Ok3lH2",
        "outputId": "54f023de-49b7-4a1c-d2c7-303f5156c9c7"
      },
      "execution_count": 377,
      "outputs": [
        {
          "output_type": "stream",
          "name": "stdout",
          "text": [
            "OverallScore\n",
            "0   625.56\n",
            "1   437.76\n",
            "2   282.89\n",
            "3   150.98\n",
            "4   181.93\n",
            "5   114.18\n",
            "6   115.76\n",
            "7    82.43\n",
            "8    74.39\n",
            "9    44.90\n",
            "Name: Recency, dtype: float64\n",
            "OverallScore\n",
            "0    1.90\n",
            "1    2.10\n",
            "2    2.91\n",
            "3    4.36\n",
            "4    9.56\n",
            "5   12.21\n",
            "6   18.70\n",
            "7   22.70\n",
            "8   31.20\n",
            "9   34.88\n",
            "Name: Frequency, dtype: float64\n",
            "OverallScore\n",
            "0    10629.36\n",
            "1    15610.25\n",
            "2    23150.52\n",
            "3    39022.98\n",
            "4    94728.66\n",
            "5   129224.39\n",
            "6   188572.42\n",
            "7   258933.04\n",
            "8   326222.21\n",
            "9   455418.37\n",
            "Name: Revenue, dtype: float64\n"
          ]
        }
      ]
    },
    {
      "cell_type": "markdown",
      "source": [
        "## Labeling"
      ],
      "metadata": {
        "id": "JoPDxzBW479o"
      }
    },
    {
      "cell_type": "code",
      "source": [
        "sales_data_user2['Segment'] = 'Low-value'\n",
        "sales_data_user2.loc[sales_data_user2['OverallScore']>2, 'Segment'] = 'Mid-value'\n",
        "sales_data_user2.loc[sales_data_user2['OverallScore']>4, 'Segment'] = 'High-value'\n",
        "sales_data_user2"
      ],
      "metadata": {
        "colab": {
          "base_uri": "https://localhost:8080/",
          "height": 419
        },
        "id": "IsOEGSaP47PG",
        "outputId": "827a8860-8715-4c41-d203-61f5dc56fccb"
      },
      "execution_count": 381,
      "outputs": [
        {
          "output_type": "execute_result",
          "data": {
            "text/html": [
              "<div>\n",
              "<style scoped>\n",
              "    .dataframe tbody tr th:only-of-type {\n",
              "        vertical-align: middle;\n",
              "    }\n",
              "\n",
              "    .dataframe tbody tr th {\n",
              "        vertical-align: top;\n",
              "    }\n",
              "\n",
              "    .dataframe thead th {\n",
              "        text-align: right;\n",
              "    }\n",
              "</style>\n",
              "<table border=\"1\" class=\"dataframe\">\n",
              "  <thead>\n",
              "    <tr style=\"text-align: right;\">\n",
              "      <th></th>\n",
              "      <th>CustomerID</th>\n",
              "      <th>Recency</th>\n",
              "      <th>RecencyCluster</th>\n",
              "      <th>Frequency</th>\n",
              "      <th>FrequencyCluster</th>\n",
              "      <th>Revenue</th>\n",
              "      <th>RevenueCluster</th>\n",
              "      <th>OverallScore</th>\n",
              "      <th>Segment</th>\n",
              "    </tr>\n",
              "  </thead>\n",
              "  <tbody>\n",
              "    <tr>\n",
              "      <th>0</th>\n",
              "      <td>9100002488768.00</td>\n",
              "      <td>123</td>\n",
              "      <td>3</td>\n",
              "      <td>23</td>\n",
              "      <td>2</td>\n",
              "      <td>268088.00</td>\n",
              "      <td>2</td>\n",
              "      <td>7</td>\n",
              "      <td>High-value</td>\n",
              "    </tr>\n",
              "    <tr>\n",
              "      <th>1</th>\n",
              "      <td>9100002508831.00</td>\n",
              "      <td>16</td>\n",
              "      <td>3</td>\n",
              "      <td>25</td>\n",
              "      <td>2</td>\n",
              "      <td>276824.00</td>\n",
              "      <td>2</td>\n",
              "      <td>7</td>\n",
              "      <td>High-value</td>\n",
              "    </tr>\n",
              "    <tr>\n",
              "      <th>2</th>\n",
              "      <td>9100001761848.00</td>\n",
              "      <td>61</td>\n",
              "      <td>3</td>\n",
              "      <td>20</td>\n",
              "      <td>2</td>\n",
              "      <td>197248.00</td>\n",
              "      <td>2</td>\n",
              "      <td>7</td>\n",
              "      <td>High-value</td>\n",
              "    </tr>\n",
              "    <tr>\n",
              "      <th>3</th>\n",
              "      <td>9100002514344.00</td>\n",
              "      <td>32</td>\n",
              "      <td>3</td>\n",
              "      <td>15</td>\n",
              "      <td>2</td>\n",
              "      <td>219224.00</td>\n",
              "      <td>2</td>\n",
              "      <td>7</td>\n",
              "      <td>High-value</td>\n",
              "    </tr>\n",
              "    <tr>\n",
              "      <th>4</th>\n",
              "      <td>9100002184202.00</td>\n",
              "      <td>18</td>\n",
              "      <td>3</td>\n",
              "      <td>20</td>\n",
              "      <td>2</td>\n",
              "      <td>235864.00</td>\n",
              "      <td>2</td>\n",
              "      <td>7</td>\n",
              "      <td>High-value</td>\n",
              "    </tr>\n",
              "    <tr>\n",
              "      <th>...</th>\n",
              "      <td>...</td>\n",
              "      <td>...</td>\n",
              "      <td>...</td>\n",
              "      <td>...</td>\n",
              "      <td>...</td>\n",
              "      <td>...</td>\n",
              "      <td>...</td>\n",
              "      <td>...</td>\n",
              "      <td>...</td>\n",
              "    </tr>\n",
              "    <tr>\n",
              "      <th>70972</th>\n",
              "      <td>9100001558486.00</td>\n",
              "      <td>113</td>\n",
              "      <td>3</td>\n",
              "      <td>38</td>\n",
              "      <td>3</td>\n",
              "      <td>45080.00</td>\n",
              "      <td>0</td>\n",
              "      <td>6</td>\n",
              "      <td>High-value</td>\n",
              "    </tr>\n",
              "    <tr>\n",
              "      <th>70973</th>\n",
              "      <td>9100001384559.00</td>\n",
              "      <td>39</td>\n",
              "      <td>3</td>\n",
              "      <td>33</td>\n",
              "      <td>3</td>\n",
              "      <td>38816.00</td>\n",
              "      <td>0</td>\n",
              "      <td>6</td>\n",
              "      <td>High-value</td>\n",
              "    </tr>\n",
              "    <tr>\n",
              "      <th>70974</th>\n",
              "      <td>9100001270685.00</td>\n",
              "      <td>33</td>\n",
              "      <td>3</td>\n",
              "      <td>31</td>\n",
              "      <td>3</td>\n",
              "      <td>67568.00</td>\n",
              "      <td>0</td>\n",
              "      <td>6</td>\n",
              "      <td>High-value</td>\n",
              "    </tr>\n",
              "    <tr>\n",
              "      <th>70975</th>\n",
              "      <td>9100000258929.00</td>\n",
              "      <td>149</td>\n",
              "      <td>2</td>\n",
              "      <td>27</td>\n",
              "      <td>3</td>\n",
              "      <td>58896.00</td>\n",
              "      <td>0</td>\n",
              "      <td>5</td>\n",
              "      <td>High-value</td>\n",
              "    </tr>\n",
              "    <tr>\n",
              "      <th>70976</th>\n",
              "      <td>9100001176611.00</td>\n",
              "      <td>590</td>\n",
              "      <td>0</td>\n",
              "      <td>33</td>\n",
              "      <td>3</td>\n",
              "      <td>34512.00</td>\n",
              "      <td>0</td>\n",
              "      <td>3</td>\n",
              "      <td>Mid-value</td>\n",
              "    </tr>\n",
              "  </tbody>\n",
              "</table>\n",
              "<p>70977 rows × 9 columns</p>\n",
              "</div>"
            ],
            "text/plain": [
              "            CustomerID  Recency  ...  OverallScore     Segment\n",
              "0     9100002488768.00      123  ...             7  High-value\n",
              "1     9100002508831.00       16  ...             7  High-value\n",
              "2     9100001761848.00       61  ...             7  High-value\n",
              "3     9100002514344.00       32  ...             7  High-value\n",
              "4     9100002184202.00       18  ...             7  High-value\n",
              "...                ...      ...  ...           ...         ...\n",
              "70972 9100001558486.00      113  ...             6  High-value\n",
              "70973 9100001384559.00       39  ...             6  High-value\n",
              "70974 9100001270685.00       33  ...             6  High-value\n",
              "70975 9100000258929.00      149  ...             5  High-value\n",
              "70976 9100001176611.00      590  ...             3   Mid-value\n",
              "\n",
              "[70977 rows x 9 columns]"
            ]
          },
          "metadata": {},
          "execution_count": 381
        }
      ]
    },
    {
      "cell_type": "markdown",
      "metadata": {
        "id": "J-pfB283gfvX"
      },
      "source": [
        "# Other"
      ]
    },
    {
      "cell_type": "code",
      "metadata": {
        "colab": {
          "base_uri": "https://localhost:8080/"
        },
        "id": "i_ICKTPN9uH2",
        "outputId": "6778abf5-a08c-4e23-8a78-f71a3b312e63"
      },
      "source": [
        "df.member_start_date.value_counts().sort_values(ascending=False)"
      ],
      "execution_count": 378,
      "outputs": [
        {
          "output_type": "execute_result",
          "data": {
            "text/plain": [
              "2003-09-23    3100\n",
              "2010-09-09    2734\n",
              "2005-03-10    2331\n",
              "2003-11-02    2240\n",
              "2005-04-04    2188\n",
              "              ... \n",
              "2016-07-08       1\n",
              "2001-04-18       1\n",
              "2001-05-08       1\n",
              "2008-04-25       1\n",
              "1999-11-29       1\n",
              "Name: member_start_date, Length: 7449, dtype: int64"
            ]
          },
          "metadata": {},
          "execution_count": 378
        }
      ]
    },
    {
      "cell_type": "code",
      "metadata": {
        "colab": {
          "base_uri": "https://localhost:8080/",
          "height": 932
        },
        "id": "5Pt05nJq1ZMW",
        "outputId": "68bbd294-2e7a-4de7-b680-b502c27621d7"
      },
      "source": [
        "df.loc[df['StockCode'].str.match(r'(^EN.*)')==True ]"
      ],
      "execution_count": 379,
      "outputs": [
        {
          "output_type": "execute_result",
          "data": {
            "text/html": [
              "<div>\n",
              "<style scoped>\n",
              "    .dataframe tbody tr th:only-of-type {\n",
              "        vertical-align: middle;\n",
              "    }\n",
              "\n",
              "    .dataframe tbody tr th {\n",
              "        vertical-align: top;\n",
              "    }\n",
              "\n",
              "    .dataframe thead th {\n",
              "        text-align: right;\n",
              "    }\n",
              "</style>\n",
              "<table border=\"1\" class=\"dataframe\">\n",
              "  <thead>\n",
              "    <tr style=\"text-align: right;\">\n",
              "      <th></th>\n",
              "      <th>Unnamed: 0</th>\n",
              "      <th>InvoiceNo</th>\n",
              "      <th>StockCode</th>\n",
              "      <th>Description</th>\n",
              "      <th>Quantity</th>\n",
              "      <th>InvoiceDate</th>\n",
              "      <th>UnitPrice</th>\n",
              "      <th>CustomerID</th>\n",
              "      <th>Country</th>\n",
              "      <th>member_start_date</th>\n",
              "      <th>first_trans_date</th>\n",
              "      <th>Revenue</th>\n",
              "    </tr>\n",
              "  </thead>\n",
              "  <tbody>\n",
              "    <tr>\n",
              "      <th>1001556</th>\n",
              "      <td>1186875</td>\n",
              "      <td>PS9360000366</td>\n",
              "      <td>ENAA01E001</td>\n",
              "      <td>逆時光藍寶石亮白全臉單堂(特惠)</td>\n",
              "      <td>8.00</td>\n",
              "      <td>2020-09-07</td>\n",
              "      <td>59.00</td>\n",
              "      <td>9100000362121.00</td>\n",
              "      <td>佐登微爾</td>\n",
              "      <td>2006-05-15</td>\n",
              "      <td>2012-09-03</td>\n",
              "      <td>472.00</td>\n",
              "    </tr>\n",
              "    <tr>\n",
              "      <th>1001793</th>\n",
              "      <td>1187147</td>\n",
              "      <td>PS9360000312</td>\n",
              "      <td>ENAA01E001</td>\n",
              "      <td>逆時光藍寶石亮白全臉單堂(特惠)</td>\n",
              "      <td>8.00</td>\n",
              "      <td>2020-09-07</td>\n",
              "      <td>59.00</td>\n",
              "      <td>9100000473957.00</td>\n",
              "      <td>佐登微爾</td>\n",
              "      <td>2005-03-22</td>\n",
              "      <td>2012-07-11</td>\n",
              "      <td>472.00</td>\n",
              "    </tr>\n",
              "    <tr>\n",
              "      <th>1001828</th>\n",
              "      <td>1187199</td>\n",
              "      <td>PS9360000313</td>\n",
              "      <td>ENAA01E001</td>\n",
              "      <td>逆時光藍寶石亮白全臉單堂(特惠)</td>\n",
              "      <td>8.00</td>\n",
              "      <td>2020-09-07</td>\n",
              "      <td>59.00</td>\n",
              "      <td>9100002275009.00</td>\n",
              "      <td>佐登微爾</td>\n",
              "      <td>2017-03-04</td>\n",
              "      <td>2017-02-08</td>\n",
              "      <td>472.00</td>\n",
              "    </tr>\n",
              "    <tr>\n",
              "      <th>1002167</th>\n",
              "      <td>1187633</td>\n",
              "      <td>PS9360000156</td>\n",
              "      <td>ENAA01E001</td>\n",
              "      <td>逆時光藍寶石亮白全臉單堂(特惠)</td>\n",
              "      <td>8.00</td>\n",
              "      <td>2020-09-07</td>\n",
              "      <td>59.00</td>\n",
              "      <td>9100000233018.00</td>\n",
              "      <td>佐登微爾</td>\n",
              "      <td>2005-05-26</td>\n",
              "      <td>2012-10-18</td>\n",
              "      <td>472.00</td>\n",
              "    </tr>\n",
              "    <tr>\n",
              "      <th>1002432</th>\n",
              "      <td>1187976</td>\n",
              "      <td>PS9360000185</td>\n",
              "      <td>ENAA01E001</td>\n",
              "      <td>逆時光藍寶石亮白全臉單堂(特惠)</td>\n",
              "      <td>8.00</td>\n",
              "      <td>2020-09-07</td>\n",
              "      <td>59.00</td>\n",
              "      <td>9100002400999.00</td>\n",
              "      <td>佐登微爾</td>\n",
              "      <td>2017-10-12</td>\n",
              "      <td>2017-10-12</td>\n",
              "      <td>472.00</td>\n",
              "    </tr>\n",
              "    <tr>\n",
              "      <th>...</th>\n",
              "      <td>...</td>\n",
              "      <td>...</td>\n",
              "      <td>...</td>\n",
              "      <td>...</td>\n",
              "      <td>...</td>\n",
              "      <td>...</td>\n",
              "      <td>...</td>\n",
              "      <td>...</td>\n",
              "      <td>...</td>\n",
              "      <td>...</td>\n",
              "      <td>...</td>\n",
              "      <td>...</td>\n",
              "    </tr>\n",
              "    <tr>\n",
              "      <th>1180992</th>\n",
              "      <td>1404161</td>\n",
              "      <td>PS9310001712</td>\n",
              "      <td>ENBD01E001</td>\n",
              "      <td>晶透亮白超皮秒美肌加強版(S1 S2 S3)(特惠)</td>\n",
              "      <td>8.00</td>\n",
              "      <td>2020-12-31</td>\n",
              "      <td>7057.00</td>\n",
              "      <td>9100002311295.00</td>\n",
              "      <td>佐登微爾</td>\n",
              "      <td>2018-05-05</td>\n",
              "      <td>2017-04-16</td>\n",
              "      <td>56456.00</td>\n",
              "    </tr>\n",
              "    <tr>\n",
              "      <th>1181023</th>\n",
              "      <td>1404198</td>\n",
              "      <td>PS9310001714</td>\n",
              "      <td>ENBD01E001</td>\n",
              "      <td>晶透亮白超皮秒美肌加強版(S1 S2 S3)(特惠)</td>\n",
              "      <td>8.00</td>\n",
              "      <td>2020-12-31</td>\n",
              "      <td>7057.00</td>\n",
              "      <td>9100002311295.00</td>\n",
              "      <td>佐登微爾</td>\n",
              "      <td>2018-05-05</td>\n",
              "      <td>2017-04-16</td>\n",
              "      <td>56456.00</td>\n",
              "    </tr>\n",
              "    <tr>\n",
              "      <th>1181054</th>\n",
              "      <td>1404232</td>\n",
              "      <td>PS9310001718</td>\n",
              "      <td>ENBA01B002</td>\n",
              "      <td>新晶透亮白超皮秒透亮美肌局部單堂(單堂會員)</td>\n",
              "      <td>8.00</td>\n",
              "      <td>2020-12-31</td>\n",
              "      <td>2059.00</td>\n",
              "      <td>9100002434994.00</td>\n",
              "      <td>佐登微爾</td>\n",
              "      <td>2018-05-07</td>\n",
              "      <td>2018-01-15</td>\n",
              "      <td>16472.00</td>\n",
              "    </tr>\n",
              "    <tr>\n",
              "      <th>1181055</th>\n",
              "      <td>1404233</td>\n",
              "      <td>PS9310001718</td>\n",
              "      <td>ENBA01B002</td>\n",
              "      <td>新晶透亮白超皮秒透亮美肌局部單堂(單堂會員)</td>\n",
              "      <td>8.00</td>\n",
              "      <td>2020-12-31</td>\n",
              "      <td>2059.00</td>\n",
              "      <td>9100002434994.00</td>\n",
              "      <td>佐登微爾</td>\n",
              "      <td>2018-05-07</td>\n",
              "      <td>2018-01-15</td>\n",
              "      <td>16472.00</td>\n",
              "    </tr>\n",
              "    <tr>\n",
              "      <th>1181101</th>\n",
              "      <td>1404286</td>\n",
              "      <td>PS9310001723</td>\n",
              "      <td>ENAA01E001</td>\n",
              "      <td>逆時光藍寶石亮白全臉單堂(特惠)</td>\n",
              "      <td>8.00</td>\n",
              "      <td>2020-12-31</td>\n",
              "      <td>59.00</td>\n",
              "      <td>9100000747570.00</td>\n",
              "      <td>佐登微爾</td>\n",
              "      <td>2012-07-06</td>\n",
              "      <td>2012-07-06</td>\n",
              "      <td>472.00</td>\n",
              "    </tr>\n",
              "  </tbody>\n",
              "</table>\n",
              "<p>4816 rows × 12 columns</p>\n",
              "</div>"
            ],
            "text/plain": [
              "         Unnamed: 0     InvoiceNo  ... first_trans_date  Revenue\n",
              "1001556     1186875  PS9360000366  ...       2012-09-03   472.00\n",
              "1001793     1187147  PS9360000312  ...       2012-07-11   472.00\n",
              "1001828     1187199  PS9360000313  ...       2017-02-08   472.00\n",
              "1002167     1187633  PS9360000156  ...       2012-10-18   472.00\n",
              "1002432     1187976  PS9360000185  ...       2017-10-12   472.00\n",
              "...             ...           ...  ...              ...      ...\n",
              "1180992     1404161  PS9310001712  ...       2017-04-16 56456.00\n",
              "1181023     1404198  PS9310001714  ...       2017-04-16 56456.00\n",
              "1181054     1404232  PS9310001718  ...       2018-01-15 16472.00\n",
              "1181055     1404233  PS9310001718  ...       2018-01-15 16472.00\n",
              "1181101     1404286  PS9310001723  ...       2012-07-06   472.00\n",
              "\n",
              "[4816 rows x 12 columns]"
            ]
          },
          "metadata": {},
          "execution_count": 379
        }
      ]
    },
    {
      "cell_type": "code",
      "metadata": {
        "id": "FNE2iNXT1epk"
      },
      "source": [
        ""
      ],
      "execution_count": 379,
      "outputs": []
    }
  ]
}